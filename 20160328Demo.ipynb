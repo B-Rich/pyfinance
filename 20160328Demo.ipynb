{
 "cells": [
  {
   "cell_type": "code",
   "execution_count": 10,
   "metadata": {
    "collapsed": false
   },
   "outputs": [
    {
     "name": "stdout",
     "output_type": "stream",
     "text": [
      "hello world\n"
     ]
    }
   ],
   "source": [
    "hi = \"hello world\"\n",
    "print hi"
   ]
  },
  {
   "cell_type": "code",
   "execution_count": 11,
   "metadata": {
    "collapsed": false
   },
   "outputs": [
    {
     "name": "stdout",
     "output_type": "stream",
     "text": [
      "hello world, my name is david\n"
     ]
    }
   ],
   "source": [
    "print hi + \", my name is david\""
   ]
  },
  {
   "cell_type": "code",
   "execution_count": 12,
   "metadata": {
    "collapsed": false
   },
   "outputs": [
    {
     "name": "stdout",
     "output_type": "stream",
     "text": [
      "<Response [200]>\n"
     ]
    }
   ],
   "source": [
    "import requests\n",
    "res = requests.get('https://tw.stock.yahoo.com/q/q?s=2330')\n",
    "print res"
   ]
  },
  {
   "cell_type": "code",
   "execution_count": 13,
   "metadata": {
    "collapsed": true
   },
   "outputs": [],
   "source": [
    "#print res.text"
   ]
  },
  {
   "cell_type": "code",
   "execution_count": 14,
   "metadata": {
    "collapsed": false
   },
   "outputs": [
    {
     "name": "stdout",
     "output_type": "stream",
     "text": [
      "ISO-8859-1\n"
     ]
    }
   ],
   "source": [
    "import requests\n",
    "res = requests.get('http://justdata.yuanta.com.tw/z/zk/zkf/zkResult.asp?D=1&A=x@10,a@30&site=')\n",
    "print res.encoding\n",
    "res.encoding = 'big5'\n",
    "#print res.text"
   ]
  },
  {
   "cell_type": "code",
   "execution_count": 15,
   "metadata": {
    "collapsed": true
   },
   "outputs": [],
   "source": [
    "payload = {\n",
    "'encodeURIComponent':'1',\n",
    "'step':'1',\n",
    "'firstin':'1',\n",
    "'TYPEK':'sii',\n",
    "'code':'',\n",
    "'year':'104',\n",
    "'season':'03',    \n",
    "}"
   ]
  },
  {
   "cell_type": "code",
   "execution_count": 16,
   "metadata": {
    "collapsed": false
   },
   "outputs": [
    {
     "name": "stdout",
     "output_type": "stream",
     "text": [
      "104\n"
     ]
    }
   ],
   "source": [
    "print payload['year']"
   ]
  },
  {
   "cell_type": "code",
   "execution_count": 19,
   "metadata": {
    "collapsed": false
   },
   "outputs": [],
   "source": [
    "import requests\n",
    "#print dir(requests)\n",
    "res = requests.post('http://mops.twse.com.tw/mops/web/ajax_t163sb19', data = payload)\n",
    "#print res.text"
   ]
  },
  {
   "cell_type": "code",
   "execution_count": 21,
   "metadata": {
    "collapsed": false
   },
   "outputs": [],
   "source": [
    "res.encoding = 'utf-8'\n",
    "#print res.text"
   ]
  },
  {
   "cell_type": "code",
   "execution_count": 31,
   "metadata": {
    "collapsed": false
   },
   "outputs": [
    {
     "name": "stdout",
     "output_type": "stream",
     "text": [
      "<class 'requests.models.Response'>\n"
     ]
    }
   ],
   "source": [
    "import requests\n",
    "payload = {\n",
    "'select_item':'1',\n",
    "'select_subitem':'1',\n",
    "'Submit':'%B7j%B4M'\n",
    "}\n",
    "res = requests.post('http://www.twse.com.tw/ch/listed/listing_profile_inquiry.php', data=payload)\n",
    "res.encoding = 'big5'\n",
    "print type(res)\n",
    "#print res.text"
   ]
  },
  {
   "cell_type": "code",
   "execution_count": 55,
   "metadata": {
    "collapsed": false
   },
   "outputs": [
    {
     "name": "stdout",
     "output_type": "stream",
     "text": [
      "\n",
      "\n",
      "\n",
      "Hello World\n",
      "This is link1\n",
      "This is link2\n",
      "\n",
      "\n"
     ]
    }
   ],
   "source": [
    "from bs4 import BeautifulSoup \n",
    "html_sample = ''' \n",
    "<html> \n",
    " <body> \n",
    " <h1 id=\"title\">Hello World</h1> \n",
    " <a href=\"#\" class=\"link\">This is link1</a> \n",
    " <a href=\"# link2\" class=\"link\">This is link2</a> \n",
    " </body> \n",
    " </html>'''\n",
    "\n",
    "soup = BeautifulSoup(html_sample, 'html.parser')\n",
    "#print soup\n",
    "#print type(soup)\n",
    "print soup.text"
   ]
  },
  {
   "cell_type": "code",
   "execution_count": 56,
   "metadata": {
    "collapsed": false
   },
   "outputs": [
    {
     "name": "stdout",
     "output_type": "stream",
     "text": [
      "<type 'list'>\n",
      "<a class=\"link\" href=\"#\">This is link1</a>\n",
      "<class 'bs4.element.Tag'>\n"
     ]
    }
   ],
   "source": [
    "soup = BeautifulSoup(html_sample, 'html.parser') \n",
    "alink = soup.select('a') \n",
    "print type(alink)\n",
    "print alink[0]\n",
    "print type(alink[0])"
   ]
  },
  {
   "cell_type": "code",
   "execution_count": 57,
   "metadata": {
    "collapsed": false
   },
   "outputs": [
    {
     "name": "stdout",
     "output_type": "stream",
     "text": [
      "[<h1 id=\"title\">Hello World</h1>]\n",
      "<h1 id=\"title\">Hello World</h1>\n",
      "Hello World\n"
     ]
    }
   ],
   "source": [
    "h1 = soup.select('h1')\n",
    "print h1\n",
    "print h1[0]\n",
    "print h1[0].text"
   ]
  },
  {
   "cell_type": "code",
   "execution_count": 58,
   "metadata": {
    "collapsed": false
   },
   "outputs": [
    {
     "name": "stdout",
     "output_type": "stream",
     "text": [
      "[<h1 id=\"title\">Hello World</h1>]\n",
      "<h1 id=\"title\">Hello World</h1>\n",
      "Hello World\n"
     ]
    }
   ],
   "source": [
    "h1 = soup.select('#title') # id => #\n",
    "print h1\n",
    "print h1[0]\n",
    "print h1[0].text"
   ]
  },
  {
   "cell_type": "code",
   "execution_count": 59,
   "metadata": {
    "collapsed": false
   },
   "outputs": [
    {
     "name": "stdout",
     "output_type": "stream",
     "text": [
      "[<a class=\"link\" href=\"#\">This is link1</a>, <a class=\"link\" href=\"# link2\">This is link2</a>]\n",
      "<a class=\"link\" href=\"# link2\">This is link2</a>\n",
      "This is link2\n"
     ]
    }
   ],
   "source": [
    "links = soup.select('.link') # class => .\n",
    "print links\n",
    "print links[1]\n",
    "print links[1].text\n",
    "#print h1[0].text"
   ]
  },
  {
   "cell_type": "code",
   "execution_count": 60,
   "metadata": {
    "collapsed": false
   },
   "outputs": [
    {
     "name": "stdout",
     "output_type": "stream",
     "text": [
      "<a class=\"link\" href=\"#\">This is link1</a>\n",
      "#\n"
     ]
    }
   ],
   "source": [
    "links = soup.select('a')\n",
    "print links[0]\n",
    "print links[0]['href']"
   ]
  },
  {
   "cell_type": "code",
   "execution_count": 61,
   "metadata": {
    "collapsed": false
   },
   "outputs": [
    {
     "name": "stdout",
     "output_type": "stream",
     "text": [
      "<a href=\"google\" qoo=\"123\">test</a>\n",
      "123\n",
      "google\n"
     ]
    }
   ],
   "source": [
    "a = '<a qoo=123 href=google>test</a>'\n",
    "soup2 = BeautifulSoup(a, 'html.parser')\n",
    "print soup2\n",
    "print soup2.select('a')[0]['qoo']\n",
    "print soup2.select('a')[0]['href']\n",
    "#print soup['qoo']"
   ]
  },
  {
   "cell_type": "code",
   "execution_count": 62,
   "metadata": {
    "collapsed": false
   },
   "outputs": [
    {
     "name": "stdout",
     "output_type": "stream",
     "text": [
      "#\n",
      "# link2\n"
     ]
    }
   ],
   "source": [
    "links = soup.select('a')\n",
    "for link in links:\n",
    "    print link['href']\n"
   ]
  },
  {
   "cell_type": "code",
   "execution_count": 66,
   "metadata": {
    "collapsed": false
   },
   "outputs": [],
   "source": [
    "#yui_3_5_1_13_1459136205160_7 > table:nth-child(9) > tbody > tr > td > table > tbody > tr:nth-child(2) > td:nth-child(3) > b\n",
    "# pip install beautifulsoup4\n",
    "import requests\n",
    "from bs4 import BeautifulSoup as bs\n",
    "res = requests.get('https://tw.stock.yahoo.com/q/q?s=2330')\n"
   ]
  },
  {
   "cell_type": "code",
   "execution_count": 69,
   "metadata": {
    "collapsed": false
   },
   "outputs": [
    {
     "name": "stdout",
     "output_type": "stream",
     "text": [
      "[<b>158.5</b>]\n",
      "<b>158.5</b>\n",
      "158.5\n"
     ]
    }
   ],
   "source": [
    "#print res.text\n",
    "soup = bs(res.text)\n",
    "#print soup.text\n",
    "print soup.select('b')\n",
    "print soup.select('b')[0]\n",
    "print soup.select('b')[0].text"
   ]
  },
  {
   "cell_type": "code",
   "execution_count": 74,
   "metadata": {
    "collapsed": false
   },
   "outputs": [
    {
     "name": "stdout",
     "output_type": "stream",
     "text": [
      "2330台積電\n"
     ]
    }
   ],
   "source": [
    "table = soup.select('table + table table')\n",
    "tr = table[0].select('tr')[1]\n",
    "print tr.select('td')[0].select('a')[0].text"
   ]
  },
  {
   "cell_type": "code",
   "execution_count": 94,
   "metadata": {
    "collapsed": false
   },
   "outputs": [
    {
     "name": "stdout",
     "output_type": "stream",
     "text": [
      "2330台積電\n"
     ]
    }
   ],
   "source": [
    "print soup.select('td a')[12].text"
   ]
  },
  {
   "cell_type": "code",
   "execution_count": 95,
   "metadata": {
    "collapsed": true
   },
   "outputs": [],
   "source": [
    "import requests\n",
    "from bs4 import BeautifulSoup as bs\n",
    "res = requests.get('https://tw.stock.yahoo.com/q/q?s=2330')\n",
    "soup = bs(res.text)"
   ]
  },
  {
   "cell_type": "code",
   "execution_count": 96,
   "metadata": {
    "collapsed": true
   },
   "outputs": [],
   "source": [
    "table = soup.select('table + table table')[0]"
   ]
  },
  {
   "cell_type": "code",
   "execution_count": 100,
   "metadata": {
    "collapsed": false
   },
   "outputs": [
    {
     "name": "stdout",
     "output_type": "stream",
     "text": [
      "2330台積電加到投資組合\n",
      "13:30\n",
      "159.0\n",
      "158.5\n",
      "159.0\n",
      "△1.0\n",
      "                \n",
      "15,268\n",
      "158.0\n",
      "158.0\n",
      "159.0\n",
      "157.0\n",
      "\n",
      "成交明細技術　新聞基本　籌碼個股健診\n"
     ]
    }
   ],
   "source": [
    "tr  = table.select('tr')\n",
    "for td in tr[1].select('td'):\n",
    "    print td.text"
   ]
  },
  {
   "cell_type": "code",
   "execution_count": 101,
   "metadata": {
    "collapsed": false
   },
   "outputs": [
    {
     "name": "stdout",
     "output_type": "stream",
     "text": [
      " \t string test \t \n",
      "\n",
      "\r",
      " \t string test \t \n",
      "\n",
      "\r\n"
     ]
    }
   ],
   "source": [
    "s = \" \\t string test \\t \\n\\n\\r\" ' \\t string test \\t \\n\\n\\r' \n",
    "print s"
   ]
  },
  {
   "cell_type": "code",
   "execution_count": 102,
   "metadata": {
    "collapsed": false
   },
   "outputs": [
    {
     "name": "stdout",
     "output_type": "stream",
     "text": [
      "string test \t \n",
      "\n",
      "\r",
      " \t string test \t \n",
      "\n",
      "\r\n"
     ]
    }
   ],
   "source": [
    "print s.lstrip()"
   ]
  },
  {
   "cell_type": "code",
   "execution_count": 103,
   "metadata": {
    "collapsed": false
   },
   "outputs": [
    {
     "name": "stdout",
     "output_type": "stream",
     "text": [
      " \t string test \t \n",
      "\n",
      "\r",
      " \t string test\n"
     ]
    }
   ],
   "source": [
    "print s.rstrip()"
   ]
  },
  {
   "cell_type": "code",
   "execution_count": 104,
   "metadata": {
    "collapsed": false
   },
   "outputs": [
    {
     "name": "stdout",
     "output_type": "stream",
     "text": [
      "string test \t \n",
      "\n",
      "\r",
      " \t string test\n"
     ]
    }
   ],
   "source": [
    "print s.strip()"
   ]
  },
  {
   "cell_type": "code",
   "execution_count": 107,
   "metadata": {
    "collapsed": false
   },
   "outputs": [
    {
     "data": {
      "text/plain": [
       "'23'"
      ]
     },
     "execution_count": 107,
     "metadata": {},
     "output_type": "execute_result"
    }
   ],
   "source": [
    "a = '12311111'\n",
    "a.strip('1')"
   ]
  },
  {
   "cell_type": "code",
   "execution_count": 108,
   "metadata": {
    "collapsed": false
   },
   "outputs": [
    {
     "name": "stdout",
     "output_type": "stream",
     "text": [
      "2330台積電加到投資組合\n",
      "13:30\n",
      "159.0\n",
      "158.5\n",
      "159.0\n",
      "△1.0\n",
      "15,268\n",
      "158.0\n",
      "158.0\n",
      "159.0\n",
      "157.0\n",
      "成交明細技術　新聞基本　籌碼個股健診\n"
     ]
    }
   ],
   "source": [
    "tr  = table.select('tr')\n",
    "for td in tr[1].select('td'):\n",
    "    print td.text.strip()"
   ]
  },
  {
   "cell_type": "code",
   "execution_count": 109,
   "metadata": {
    "collapsed": false
   },
   "outputs": [
    {
     "name": "stdout",
     "output_type": "stream",
     "text": [
      "股票代號\n",
      "時間\n",
      "成交\n",
      "買進\n",
      "賣出\n",
      "漲跌\n",
      "張數\n",
      "昨收\n",
      "開盤\n",
      "最高\n",
      "最低\n",
      "個股資料\n"
     ]
    }
   ],
   "source": [
    "tr  = table.select('tr')\n",
    "for th in tr[0].select('th'):\n",
    "    print th.text.strip()"
   ]
  },
  {
   "cell_type": "code",
   "execution_count": 112,
   "metadata": {
    "collapsed": false
   },
   "outputs": [
    {
     "name": "stdout",
     "output_type": "stream",
     "text": [
      "[1, 2]\n"
     ]
    }
   ],
   "source": [
    "a = []\n",
    "a.append(1)\n",
    "a.append(2)\n",
    "print a"
   ]
  },
  {
   "cell_type": "code",
   "execution_count": 111,
   "metadata": {
    "collapsed": false
   },
   "outputs": [],
   "source": [
    "value = []\n",
    "tr  = table.select('tr')\n",
    "for td in tr[1].select('td'):\n",
    "    value.append(td.text.strip())\n",
    "#print value"
   ]
  },
  {
   "cell_type": "code",
   "execution_count": 114,
   "metadata": {
    "collapsed": false
   },
   "outputs": [],
   "source": [
    "name = []\n",
    "tr  = table.select('tr')\n",
    "for th in tr[0].select('th'):\n",
    "    name.append(th.text.strip())\n",
    "#print name"
   ]
  },
  {
   "cell_type": "code",
   "execution_count": 115,
   "metadata": {
    "collapsed": false
   },
   "outputs": [
    {
     "name": "stdout",
     "output_type": "stream",
     "text": [
      "{'a': 100, 'c': 0.98, 'b': 'yes'}\n"
     ]
    }
   ],
   "source": [
    "#declare dictionary \n",
    "dic = {'a':100, 'b':\"yes\", 'c':0.98} \n",
    "print dic "
   ]
  },
  {
   "cell_type": "code",
   "execution_count": 116,
   "metadata": {
    "collapsed": false
   },
   "outputs": [
    {
     "name": "stdout",
     "output_type": "stream",
     "text": [
      "['a', 'c', 'b']\n"
     ]
    }
   ],
   "source": [
    "#get keys in dictionary \n",
    "print dic.keys() "
   ]
  },
  {
   "cell_type": "code",
   "execution_count": 117,
   "metadata": {
    "collapsed": false
   },
   "outputs": [
    {
     "name": "stdout",
     "output_type": "stream",
     "text": [
      "[100, 0.98, 'yes']\n"
     ]
    }
   ],
   "source": [
    "#get values in dictionary \n",
    "print dic.values() "
   ]
  },
  {
   "cell_type": "code",
   "execution_count": 118,
   "metadata": {
    "collapsed": false
   },
   "outputs": [
    {
     "name": "stdout",
     "output_type": "stream",
     "text": [
      "100\n"
     ]
    }
   ],
   "source": [
    "#get value of given key \n",
    "print dic['a'] "
   ]
  },
  {
   "cell_type": "code",
   "execution_count": 119,
   "metadata": {
    "collapsed": false
   },
   "outputs": [
    {
     "ename": "KeyError",
     "evalue": "'d'",
     "output_type": "error",
     "traceback": [
      "\u001b[1;31m---------------------------------------------------------------------------\u001b[0m",
      "\u001b[1;31mKeyError\u001b[0m                                  Traceback (most recent call last)",
      "\u001b[1;32m<ipython-input-119-143205e8c65b>\u001b[0m in \u001b[0;36m<module>\u001b[1;34m()\u001b[0m\n\u001b[1;32m----> 1\u001b[1;33m \u001b[1;32mprint\u001b[0m \u001b[0mdic\u001b[0m\u001b[1;33m[\u001b[0m\u001b[1;34m'd'\u001b[0m\u001b[1;33m]\u001b[0m\u001b[1;33m\u001b[0m\u001b[0m\n\u001b[0m",
      "\u001b[1;31mKeyError\u001b[0m: 'd'"
     ]
    }
   ],
   "source": [
    "print dic['d']"
   ]
  },
  {
   "cell_type": "code",
   "execution_count": 120,
   "metadata": {
    "collapsed": false
   },
   "outputs": [
    {
     "name": "stdout",
     "output_type": "stream",
     "text": [
      "100\n"
     ]
    }
   ],
   "source": [
    "#get value of given key \n",
    "print dic.get('a')"
   ]
  },
  {
   "cell_type": "code",
   "execution_count": 121,
   "metadata": {
    "collapsed": false
   },
   "outputs": [
    {
     "name": "stdout",
     "output_type": "stream",
     "text": [
      "None\n"
     ]
    }
   ],
   "source": [
    "print dic.get('d')"
   ]
  },
  {
   "cell_type": "code",
   "execution_count": 123,
   "metadata": {
    "collapsed": false
   },
   "outputs": [
    {
     "name": "stdout",
     "output_type": "stream",
     "text": [
      "100\n",
      "default\n"
     ]
    }
   ],
   "source": [
    "print dic.get('a', 'default')\n",
    "print dic.get('d', 'default')"
   ]
  },
  {
   "cell_type": "code",
   "execution_count": 124,
   "metadata": {
    "collapsed": false
   },
   "outputs": [
    {
     "name": "stdout",
     "output_type": "stream",
     "text": [
      "{'a': 100, 'c': 0.98, 'b': 'yes', 'd': 'new'}\n"
     ]
    }
   ],
   "source": [
    "#add entry into dictionary \n",
    "dic['d'] = 'new' \n",
    "print dic "
   ]
  },
  {
   "cell_type": "code",
   "execution_count": 125,
   "metadata": {
    "collapsed": false
   },
   "outputs": [
    {
     "name": "stdout",
     "output_type": "stream",
     "text": [
      "{'a': 100, 'c': 0.98, 'b': 'yes', 'e': 123, 'd': 'new'}\n"
     ]
    }
   ],
   "source": [
    "#add entry into dictionary \n",
    "dic.update({'e':123}) \n",
    "print dic "
   ]
  },
  {
   "cell_type": "code",
   "execution_count": 126,
   "metadata": {
    "collapsed": false
   },
   "outputs": [
    {
     "name": "stdout",
     "output_type": "stream",
     "text": [
      "a 100\n",
      "c 0.98\n",
      "b yes\n",
      "e 123\n",
      "d new\n"
     ]
    }
   ],
   "source": [
    "# iter the dictionary \n",
    "for rec in dic: \n",
    "    print rec, dic[rec]"
   ]
  },
  {
   "cell_type": "code",
   "execution_count": 127,
   "metadata": {
    "collapsed": false
   },
   "outputs": [
    {
     "name": "stdout",
     "output_type": "stream",
     "text": [
      "[u'\\u80a1\\u7968\\u4ee3\\u865f', u'\\u6642\\u9593', u'\\u6210\\u4ea4', u'\\u8cb7\\u9032', u'\\u8ce3\\u51fa', u'\\u6f32\\u8dcc', u'\\u5f35\\u6578', u'\\u6628\\u6536', u'\\u958b\\u76e4', u'\\u6700\\u9ad8', u'\\u6700\\u4f4e', u'\\u500b\\u80a1\\u8cc7\\u6599']\n",
      "[u'2330\\u53f0\\u7a4d\\u96fb\\u52a0\\u5230\\u6295\\u8cc7\\u7d44\\u5408', u'13:30', u'159.0', u'158.5', u'159.0', u'\\u25b31.0', u'15,268', u'158.0', u'158.0', u'159.0', u'157.0', u'\\u6210\\u4ea4\\u660e\\u7d30\\u6280\\u8853\\u3000\\u65b0\\u805e\\u57fa\\u672c\\u3000\\u7c4c\\u78bc\\u500b\\u80a1\\u5065\\u8a3a']\n"
     ]
    }
   ],
   "source": [
    "print name\n",
    "print value"
   ]
  },
  {
   "cell_type": "code",
   "execution_count": 130,
   "metadata": {
    "collapsed": false
   },
   "outputs": [],
   "source": [
    "dic = {}\n",
    "for n, v in zip(name, value):\n",
    "    dic[n] =  v"
   ]
  },
  {
   "cell_type": "code",
   "execution_count": 131,
   "metadata": {
    "collapsed": false
   },
   "outputs": [
    {
     "name": "stdout",
     "output_type": "stream",
     "text": [
      "159.0\n"
     ]
    }
   ],
   "source": [
    "print dic['成交'.decode('utf-8')]"
   ]
  }
 ],
 "metadata": {
  "kernelspec": {
   "display_name": "Python 2",
   "language": "python",
   "name": "python2"
  },
  "language_info": {
   "codemirror_mode": {
    "name": "ipython",
    "version": 2
   },
   "file_extension": ".py",
   "mimetype": "text/x-python",
   "name": "python",
   "nbconvert_exporter": "python",
   "pygments_lexer": "ipython2",
   "version": "2.7.11"
  }
 },
 "nbformat": 4,
 "nbformat_minor": 0
}
