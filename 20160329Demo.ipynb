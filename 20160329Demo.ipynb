{
 "cells": [
  {
   "cell_type": "code",
   "execution_count": 8,
   "metadata": {
    "collapsed": false
   },
   "outputs": [],
   "source": [
    "import requests\n",
    "payload={\n",
    "'encodeURIComponent':'1',\n",
    "'step':'1',\n",
    "'firstin':'1',\n",
    "'TYPEK':'sii',\n",
    "'code':'',\n",
    "'year':'104',\n",
    "'season':'03'    \n",
    "}\n",
    "res = requests.post('http://mops.twse.com.tw/mops/web/ajax_t163sb19', data=payload)\n",
    "res.encoding = 'utf-8'\n",
    "#print res.text"
   ]
  },
  {
   "cell_type": "code",
   "execution_count": 10,
   "metadata": {
    "collapsed": false
   },
   "outputs": [],
   "source": [
    "from bs4 import BeautifulSoup as bs\n",
    "soup = bs(res.text, 'html.parser')"
   ]
  },
  {
   "cell_type": "code",
   "execution_count": 15,
   "metadata": {
    "collapsed": false
   },
   "outputs": [],
   "source": [
    "import pandas as pd\n",
    "dfs = pd.read_html(soup.prettify('utf-8'), encoding='utf-8', header=0)"
   ]
  },
  {
   "cell_type": "code",
   "execution_count": 18,
   "metadata": {
    "collapsed": false
   },
   "outputs": [
    {
     "data": {
      "text/plain": [
       "0       2278102\n",
       "1     145699706\n",
       "2     232854191\n",
       "3     250678904\n",
       "4       1467439\n",
       "5           NaN\n",
       "6       8477479\n",
       "7           NaN\n",
       "8      16334937\n",
       "9       2274857\n",
       "10     15751120\n",
       "11      9766655\n",
       "12      2071424\n",
       "13     10310043\n",
       "14          NaN\n",
       "15      3354193\n",
       "16      3722115\n",
       "17       810474\n",
       "18     39546827\n",
       "19       971007\n",
       "20      8941610\n",
       "21     13086181\n",
       "22      3651709\n",
       "23     13191550\n",
       "24     33466894\n",
       "25     21480374\n",
       "26          NaN\n",
       "27          NaN\n",
       "Name: 營業收入, dtype: float64"
      ]
     },
     "execution_count": 18,
     "metadata": {},
     "output_type": "execute_result"
    }
   ],
   "source": [
    "dfs[2]['營業收入'.decode('utf-8')]"
   ]
  },
  {
   "cell_type": "code",
   "execution_count": 24,
   "metadata": {
    "collapsed": false
   },
   "outputs": [],
   "source": [
    "#dir(dfs[0]['公司代號'.decode('utf-8')].str)"
   ]
  },
  {
   "cell_type": "code",
   "execution_count": 25,
   "metadata": {
    "collapsed": false
   },
   "outputs": [
    {
     "data": {
      "text/plain": [
       "0      True\n",
       "1      True\n",
       "2      True\n",
       "3      True\n",
       "4     False\n",
       "5      True\n",
       "6     False\n",
       "7      True\n",
       "8      True\n",
       "9     False\n",
       "10    False\n",
       "Name: 公司代號, dtype: bool"
      ]
     },
     "execution_count": 25,
     "metadata": {},
     "output_type": "execute_result"
    }
   ],
   "source": [
    "#dfs[0]['公司代號'.decode('utf-8')].str.match('^[0-9]+')"
   ]
  },
  {
   "cell_type": "code",
   "execution_count": 36,
   "metadata": {
    "collapsed": false
   },
   "outputs": [
    {
     "name": "stdout",
     "output_type": "stream",
     "text": [
      "<_sre.SRE_Match object at 0x000000000A5F3168>\n",
      "None\n",
      "<_sre.SRE_Match object at 0x000000000A5F42A0>\n",
      "<_sre.SRE_Match object at 0x000000000A5F3168>\n"
     ]
    }
   ],
   "source": [
    "import re\n",
    "email = 'apple@gmail.com'\n",
    "str1 = 'a'\n",
    "m = re.search('a', str1)\n",
    "print m\n",
    "\n",
    "m = re.search('b', str1)\n",
    "print m\n",
    "\n",
    "m = re.search('[abcdefghijklmnopqrstuvwxyz]', str1)\n",
    "print m\n",
    "\n",
    "m = re.search('[a-z]', str1)\n",
    "print m"
   ]
  },
  {
   "cell_type": "code",
   "execution_count": 41,
   "metadata": {
    "collapsed": false
   },
   "outputs": [
    {
     "name": "stdout",
     "output_type": "stream",
     "text": [
      "<_sre.SRE_Match object at 0x000000000A5F31D0>\n",
      "<_sre.SRE_Match object at 0x000000000A5F3238>\n",
      "<_sre.SRE_Match object at 0x000000000A5F31D0>\n",
      "<_sre.SRE_Match object at 0x000000000A5F3238>\n"
     ]
    }
   ],
   "source": [
    "num = '3'\n",
    "\n",
    "m = re.search('3', num)\n",
    "print m\n",
    "\n",
    "m = re.search('[0123456789]', num)\n",
    "print m\n",
    "\n",
    "m = re.search('[0-9]', num)\n",
    "print m\n",
    "\n",
    "m = re.search('\\d', num)\n",
    "print m"
   ]
  },
  {
   "cell_type": "code",
   "execution_count": 40,
   "metadata": {
    "collapsed": false
   },
   "outputs": [
    {
     "name": "stdout",
     "output_type": "stream",
     "text": [
      "None\n",
      "<_sre.SRE_Match object at 0x000000000A5F31D0>\n",
      "<_sre.SRE_Match object at 0x000000000A5F3238>\n"
     ]
    }
   ],
   "source": [
    "str2 = 'A'\n",
    "m = re.search('[0-9a-z]', str2)\n",
    "print m\n",
    "\n",
    "m = re.search('[0-9a-zA-Z]', str2)\n",
    "print m\n",
    "\n",
    "m = re.search('\\w', str2)\n",
    "print m\n"
   ]
  },
  {
   "cell_type": "code",
   "execution_count": 43,
   "metadata": {
    "collapsed": false
   },
   "outputs": [
    {
     "name": "stdout",
     "output_type": "stream",
     "text": [
      "<_sre.SRE_Match object at 0x000000000A5F3440>\n"
     ]
    }
   ],
   "source": [
    "str3 = '!'\n",
    "m = re.search('.', str2)\n",
    "print m"
   ]
  },
  {
   "cell_type": "code",
   "execution_count": 49,
   "metadata": {
    "collapsed": false
   },
   "outputs": [
    {
     "name": "stdout",
     "output_type": "stream",
     "text": [
      "<_sre.SRE_Match object at 0x000000000A5F3BF8>\n",
      "<_sre.SRE_Match object at 0x000000000A5F3D30>\n",
      "<_sre.SRE_Match object at 0x000000000A5F3BF8>\n",
      "<_sre.SRE_Match object at 0x000000000A5F3D30>\n",
      "<_sre.SRE_Match object at 0x000000000A5F3BF8>\n",
      "None\n"
     ]
    }
   ],
   "source": [
    "phone = '0912345678'\n",
    "m = re.search('\\d{10}', phone)\n",
    "print m\n",
    "\n",
    "phone2 = '021234554344234i2423'\n",
    "m = re.search('\\d{10,}', phone2)\n",
    "print m\n",
    "\n",
    "phone3 = ''\n",
    "m = re.search('\\d{0,}', phone3)\n",
    "print m\n",
    "\n",
    "phone3 = ''\n",
    "m = re.search('\\d*', phone3) # {0,}\n",
    "print m\n",
    "\n",
    "\n",
    "phone4 = '2'\n",
    "m = re.search('\\d{1,}', phone4)\n",
    "print m\n",
    "\n",
    "phone4 = '2'\n",
    "m = re.search('\\d+', phone3) # {1,}\n",
    "print m"
   ]
  },
  {
   "cell_type": "code",
   "execution_count": 52,
   "metadata": {
    "collapsed": false
   },
   "outputs": [
    {
     "name": "stdout",
     "output_type": "stream",
     "text": [
      "[<_sre.SRE_Match object at 0x000000000A5F3C60>, None, None, <_sre.SRE_Match object at 0x000000000A5F3D98>]\n",
      "[<_sre.SRE_Match object at 0x000000000A5F3C60>, <_sre.SRE_Match object at 0x000000000A5F3D98>, <_sre.SRE_Match object at 0x000000000A5F34A8>, <_sre.SRE_Match object at 0x000000000A5F3510>]\n",
      "[<_sre.SRE_Match object at 0x000000000A5F3C60>, <_sre.SRE_Match object at 0x000000000A5F3D98>, <_sre.SRE_Match object at 0x000000000A5F34A8>, None]\n"
     ]
    }
   ],
   "source": [
    "phones = ['0912345678', '0912-345678', '0912-345-678', '0912345678912345']\n",
    "print [re.search('\\d{10}', phone) for phone in phones]\n",
    "print [re.search('\\d{4}-{0,1}\\d{3}-?\\d{3}', phone) for phone in phones] #{0,1} => ?\n",
    "print [re.search('^\\d{4}-?\\d{3}-?\\d{3}$', phone) for phone in phones]"
   ]
  },
  {
   "cell_type": "code",
   "execution_count": 54,
   "metadata": {
    "collapsed": false
   },
   "outputs": [
    {
     "name": "stdout",
     "output_type": "stream",
     "text": [
      "[<_sre.SRE_Match object at 0x000000000A5F3C60>, None, None, <_sre.SRE_Match object at 0x000000000A5F3510>, None]\n"
     ]
    }
   ],
   "source": [
    "emails = ['a@gmail.com', '0912@vcool.com', '1-1*@1', 'a@qoo.com.tw', 'thisisatest']\n",
    "print [re.search('^[a-z]\\w*@\\w+\\..+', email) for email in emails]"
   ]
  },
  {
   "cell_type": "code",
   "execution_count": 56,
   "metadata": {
    "collapsed": false
   },
   "outputs": [
    {
     "data": {
      "text/html": [
       "<div>\n",
       "<table border=\"1\" class=\"dataframe\">\n",
       "  <thead>\n",
       "    <tr style=\"text-align: right;\">\n",
       "      <th></th>\n",
       "      <th>公司代號</th>\n",
       "      <th>公司名稱</th>\n",
       "      <th>產業別</th>\n",
       "      <th>基本每股盈餘(元)</th>\n",
       "      <th>普通股每股面額</th>\n",
       "      <th>營業收入</th>\n",
       "      <th>營業利益</th>\n",
       "      <th>營業外收入及支出</th>\n",
       "      <th>稅後淨利</th>\n",
       "    </tr>\n",
       "  </thead>\n",
       "  <tbody>\n",
       "    <tr>\n",
       "      <th>0</th>\n",
       "      <td>1104</td>\n",
       "      <td>環球水泥股份有限公司</td>\n",
       "      <td>水泥工業</td>\n",
       "      <td>1.46</td>\n",
       "      <td>新台幣 10.0000元</td>\n",
       "      <td>3770779</td>\n",
       "      <td>96507</td>\n",
       "      <td>886531</td>\n",
       "      <td>909732</td>\n",
       "    </tr>\n",
       "    <tr>\n",
       "      <th>1</th>\n",
       "      <td>1102</td>\n",
       "      <td>亞洲水泥股份有限公司</td>\n",
       "      <td>水泥工業</td>\n",
       "      <td>1.41</td>\n",
       "      <td>新台幣 10.0000元</td>\n",
       "      <td>49113910</td>\n",
       "      <td>2854548</td>\n",
       "      <td>2234539</td>\n",
       "      <td>4406554</td>\n",
       "    </tr>\n",
       "    <tr>\n",
       "      <th>2</th>\n",
       "      <td>1101</td>\n",
       "      <td>台灣水泥股份有限公司</td>\n",
       "      <td>水泥工業</td>\n",
       "      <td>1.08</td>\n",
       "      <td>新台幣 10.0000元</td>\n",
       "      <td>69118302</td>\n",
       "      <td>6607616</td>\n",
       "      <td>-723929</td>\n",
       "      <td>4691790</td>\n",
       "    </tr>\n",
       "    <tr>\n",
       "      <th>3</th>\n",
       "      <td>1108</td>\n",
       "      <td>幸福水泥股份有限公司</td>\n",
       "      <td>水泥工業</td>\n",
       "      <td>1.01</td>\n",
       "      <td>新台幣 10.0000元</td>\n",
       "      <td>3765704</td>\n",
       "      <td>559253</td>\n",
       "      <td>-17865</td>\n",
       "      <td>399494</td>\n",
       "    </tr>\n",
       "    <tr>\n",
       "      <th>5</th>\n",
       "      <td>1110</td>\n",
       "      <td>東南水泥股份有限公司</td>\n",
       "      <td>水泥工業</td>\n",
       "      <td>0.21</td>\n",
       "      <td>新台幣 10.0000元</td>\n",
       "      <td>1371851</td>\n",
       "      <td>69135</td>\n",
       "      <td>53277</td>\n",
       "      <td>122288</td>\n",
       "    </tr>\n",
       "    <tr>\n",
       "      <th>7</th>\n",
       "      <td>1109</td>\n",
       "      <td>信大水泥股份有限公司</td>\n",
       "      <td>水泥工業</td>\n",
       "      <td>-0.09</td>\n",
       "      <td>新台幣 10.0000元</td>\n",
       "      <td>3204963</td>\n",
       "      <td>-6131</td>\n",
       "      <td>-48231</td>\n",
       "      <td>-101495</td>\n",
       "    </tr>\n",
       "    <tr>\n",
       "      <th>8</th>\n",
       "      <td>1103</td>\n",
       "      <td>嘉新水泥股份有限公司</td>\n",
       "      <td>水泥工業</td>\n",
       "      <td>-0.62</td>\n",
       "      <td>新台幣 10.0000元</td>\n",
       "      <td>1957612</td>\n",
       "      <td>-400817</td>\n",
       "      <td>31022</td>\n",
       "      <td>-384582</td>\n",
       "    </tr>\n",
       "  </tbody>\n",
       "</table>\n",
       "</div>"
      ],
      "text/plain": [
       "   公司代號        公司名稱   產業別  基本每股盈餘(元)       普通股每股面額      營業收入     營業利益  \\\n",
       "0  1104  環球水泥股份有限公司  水泥工業       1.46  新台幣 10.0000元   3770779    96507   \n",
       "1  1102  亞洲水泥股份有限公司  水泥工業       1.41  新台幣 10.0000元  49113910  2854548   \n",
       "2  1101  台灣水泥股份有限公司  水泥工業       1.08  新台幣 10.0000元  69118302  6607616   \n",
       "3  1108  幸福水泥股份有限公司  水泥工業       1.01  新台幣 10.0000元   3765704   559253   \n",
       "5  1110  東南水泥股份有限公司  水泥工業       0.21  新台幣 10.0000元   1371851    69135   \n",
       "7  1109  信大水泥股份有限公司  水泥工業      -0.09  新台幣 10.0000元   3204963    -6131   \n",
       "8  1103  嘉新水泥股份有限公司  水泥工業      -0.62  新台幣 10.0000元   1957612  -400817   \n",
       "\n",
       "   營業外收入及支出     稅後淨利  \n",
       "0    886531   909732  \n",
       "1   2234539  4406554  \n",
       "2   -723929  4691790  \n",
       "3    -17865   399494  \n",
       "5     53277   122288  \n",
       "7    -48231  -101495  \n",
       "8     31022  -384582  "
      ]
     },
     "execution_count": 56,
     "metadata": {},
     "output_type": "execute_result"
    }
   ],
   "source": [
    "df = dfs[0]\n",
    "df[df['公司代號'.decode('utf-8')].str.match('^[0-9]+')]"
   ]
  },
  {
   "cell_type": "code",
   "execution_count": 57,
   "metadata": {
    "collapsed": true
   },
   "outputs": [],
   "source": [
    "dfall = []\n",
    "for df in dfs:\n",
    "    dfall.append(df[df['公司代號'.decode('utf-8')].str.match('^\\d+')])"
   ]
  },
  {
   "cell_type": "code",
   "execution_count": 60,
   "metadata": {
    "collapsed": false
   },
   "outputs": [],
   "source": [
    "stockdf = pd.concat(dfall, ignore_index=True)"
   ]
  },
  {
   "cell_type": "code",
   "execution_count": 62,
   "metadata": {
    "collapsed": false,
    "scrolled": false
   },
   "outputs": [
    {
     "data": {
      "text/html": [
       "<div>\n",
       "<table border=\"1\" class=\"dataframe\">\n",
       "  <thead>\n",
       "    <tr style=\"text-align: right;\">\n",
       "      <th></th>\n",
       "      <th>公司代號</th>\n",
       "      <th>公司名稱</th>\n",
       "      <th>產業別</th>\n",
       "      <th>基本每股盈餘(元)</th>\n",
       "      <th>普通股每股面額</th>\n",
       "      <th>營業收入</th>\n",
       "      <th>營業利益</th>\n",
       "      <th>營業外收入及支出</th>\n",
       "      <th>稅後淨利</th>\n",
       "    </tr>\n",
       "  </thead>\n",
       "  <tbody>\n",
       "    <tr>\n",
       "      <th>475</th>\n",
       "      <td>2330</td>\n",
       "      <td>台灣積體電路製造股份有限公司</td>\n",
       "      <td>半導體業</td>\n",
       "      <td>9.01</td>\n",
       "      <td>新台幣 10.0000元</td>\n",
       "      <td>639978805</td>\n",
       "      <td>2.42084e+08</td>\n",
       "      <td>2.77012e+07</td>\n",
       "      <td>233714112</td>\n",
       "    </tr>\n",
       "  </tbody>\n",
       "</table>\n",
       "</div>"
      ],
      "text/plain": [
       "     公司代號            公司名稱   產業別  基本每股盈餘(元)       普通股每股面額       營業收入  \\\n",
       "475  2330  台灣積體電路製造股份有限公司  半導體業       9.01  新台幣 10.0000元  639978805   \n",
       "\n",
       "            營業利益     營業外收入及支出       稅後淨利  \n",
       "475  2.42084e+08  2.77012e+07  233714112  "
      ]
     },
     "execution_count": 62,
     "metadata": {},
     "output_type": "execute_result"
    }
   ],
   "source": [
    "stockdf[stockdf['公司代號'.decode('utf-8')] == '2330']"
   ]
  },
  {
   "cell_type": "code",
   "execution_count": null,
   "metadata": {
    "collapsed": true
   },
   "outputs": [],
   "source": []
  }
 ],
 "metadata": {
  "kernelspec": {
   "display_name": "Python 2",
   "language": "python",
   "name": "python2"
  },
  "language_info": {
   "codemirror_mode": {
    "name": "ipython",
    "version": 2
   },
   "file_extension": ".py",
   "mimetype": "text/x-python",
   "name": "python",
   "nbconvert_exporter": "python",
   "pygments_lexer": "ipython2",
   "version": "2.7.11"
  }
 },
 "nbformat": 4,
 "nbformat_minor": 0
}
