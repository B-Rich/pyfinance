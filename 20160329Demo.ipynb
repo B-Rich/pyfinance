{
 "cells": [
  {
   "cell_type": "code",
   "execution_count": 8,
   "metadata": {
    "collapsed": false
   },
   "outputs": [],
   "source": [
    "import requests\n",
    "payload={\n",
    "'encodeURIComponent':'1',\n",
    "'step':'1',\n",
    "'firstin':'1',\n",
    "'TYPEK':'sii',\n",
    "'code':'',\n",
    "'year':'104',\n",
    "'season':'03'    \n",
    "}\n",
    "res = requests.post('http://mops.twse.com.tw/mops/web/ajax_t163sb19', data=payload)\n",
    "res.encoding = 'utf-8'\n",
    "#print res.text"
   ]
  },
  {
   "cell_type": "code",
   "execution_count": 10,
   "metadata": {
    "collapsed": false
   },
   "outputs": [],
   "source": [
    "from bs4 import BeautifulSoup as bs\n",
    "soup = bs(res.text, 'html.parser')"
   ]
  },
  {
   "cell_type": "code",
   "execution_count": 15,
   "metadata": {
    "collapsed": false
   },
   "outputs": [],
   "source": [
    "import pandas as pd\n",
    "dfs = pd.read_html(soup.prettify('utf-8'), encoding='utf-8', header=0)"
   ]
  },
  {
   "cell_type": "code",
   "execution_count": 18,
   "metadata": {
    "collapsed": false
   },
   "outputs": [
    {
     "data": {
      "text/plain": [
       "0       2278102\n",
       "1     145699706\n",
       "2     232854191\n",
       "3     250678904\n",
       "4       1467439\n",
       "5           NaN\n",
       "6       8477479\n",
       "7           NaN\n",
       "8      16334937\n",
       "9       2274857\n",
       "10     15751120\n",
       "11      9766655\n",
       "12      2071424\n",
       "13     10310043\n",
       "14          NaN\n",
       "15      3354193\n",
       "16      3722115\n",
       "17       810474\n",
       "18     39546827\n",
       "19       971007\n",
       "20      8941610\n",
       "21     13086181\n",
       "22      3651709\n",
       "23     13191550\n",
       "24     33466894\n",
       "25     21480374\n",
       "26          NaN\n",
       "27          NaN\n",
       "Name: 營業收入, dtype: float64"
      ]
     },
     "execution_count": 18,
     "metadata": {},
     "output_type": "execute_result"
    }
   ],
   "source": [
    "dfs[2]['營業收入'.decode('utf-8')]"
   ]
  },
  {
   "cell_type": "code",
   "execution_count": 24,
   "metadata": {
    "collapsed": false
   },
   "outputs": [],
   "source": [
    "#dir(dfs[0]['公司代號'.decode('utf-8')].str)"
   ]
  },
  {
   "cell_type": "code",
   "execution_count": 25,
   "metadata": {
    "collapsed": false
   },
   "outputs": [
    {
     "data": {
      "text/plain": [
       "0      True\n",
       "1      True\n",
       "2      True\n",
       "3      True\n",
       "4     False\n",
       "5      True\n",
       "6     False\n",
       "7      True\n",
       "8      True\n",
       "9     False\n",
       "10    False\n",
       "Name: 公司代號, dtype: bool"
      ]
     },
     "execution_count": 25,
     "metadata": {},
     "output_type": "execute_result"
    }
   ],
   "source": [
    "#dfs[0]['公司代號'.decode('utf-8')].str.match('^[0-9]+')"
   ]
  },
  {
   "cell_type": "code",
   "execution_count": 36,
   "metadata": {
    "collapsed": false
   },
   "outputs": [
    {
     "name": "stdout",
     "output_type": "stream",
     "text": [
      "<_sre.SRE_Match object at 0x000000000A5F3168>\n",
      "None\n",
      "<_sre.SRE_Match object at 0x000000000A5F42A0>\n",
      "<_sre.SRE_Match object at 0x000000000A5F3168>\n"
     ]
    }
   ],
   "source": [
    "import re\n",
    "email = 'apple@gmail.com'\n",
    "str1 = 'a'\n",
    "m = re.search('a', str1)\n",
    "print m\n",
    "\n",
    "m = re.search('b', str1)\n",
    "print m\n",
    "\n",
    "m = re.search('[abcdefghijklmnopqrstuvwxyz]', str1)\n",
    "print m\n",
    "\n",
    "m = re.search('[a-z]', str1)\n",
    "print m"
   ]
  },
  {
   "cell_type": "code",
   "execution_count": 41,
   "metadata": {
    "collapsed": false
   },
   "outputs": [
    {
     "name": "stdout",
     "output_type": "stream",
     "text": [
      "<_sre.SRE_Match object at 0x000000000A5F31D0>\n",
      "<_sre.SRE_Match object at 0x000000000A5F3238>\n",
      "<_sre.SRE_Match object at 0x000000000A5F31D0>\n",
      "<_sre.SRE_Match object at 0x000000000A5F3238>\n"
     ]
    }
   ],
   "source": [
    "num = '3'\n",
    "\n",
    "m = re.search('3', num)\n",
    "print m\n",
    "\n",
    "m = re.search('[0123456789]', num)\n",
    "print m\n",
    "\n",
    "m = re.search('[0-9]', num)\n",
    "print m\n",
    "\n",
    "m = re.search('\\d', num)\n",
    "print m"
   ]
  },
  {
   "cell_type": "code",
   "execution_count": 40,
   "metadata": {
    "collapsed": false
   },
   "outputs": [
    {
     "name": "stdout",
     "output_type": "stream",
     "text": [
      "None\n",
      "<_sre.SRE_Match object at 0x000000000A5F31D0>\n",
      "<_sre.SRE_Match object at 0x000000000A5F3238>\n"
     ]
    }
   ],
   "source": [
    "str2 = 'A'\n",
    "m = re.search('[0-9a-z]', str2)\n",
    "print m\n",
    "\n",
    "m = re.search('[0-9a-zA-Z]', str2)\n",
    "print m\n",
    "\n",
    "m = re.search('\\w', str2)\n",
    "print m\n"
   ]
  },
  {
   "cell_type": "code",
   "execution_count": 43,
   "metadata": {
    "collapsed": false
   },
   "outputs": [
    {
     "name": "stdout",
     "output_type": "stream",
     "text": [
      "<_sre.SRE_Match object at 0x000000000A5F3440>\n"
     ]
    }
   ],
   "source": [
    "str3 = '!'\n",
    "m = re.search('.', str2)\n",
    "print m"
   ]
  },
  {
   "cell_type": "code",
   "execution_count": 49,
   "metadata": {
    "collapsed": false
   },
   "outputs": [
    {
     "name": "stdout",
     "output_type": "stream",
     "text": [
      "<_sre.SRE_Match object at 0x000000000A5F3BF8>\n",
      "<_sre.SRE_Match object at 0x000000000A5F3D30>\n",
      "<_sre.SRE_Match object at 0x000000000A5F3BF8>\n",
      "<_sre.SRE_Match object at 0x000000000A5F3D30>\n",
      "<_sre.SRE_Match object at 0x000000000A5F3BF8>\n",
      "None\n"
     ]
    }
   ],
   "source": [
    "phone = '0912345678'\n",
    "m = re.search('\\d{10}', phone)\n",
    "print m\n",
    "\n",
    "phone2 = '021234554344234i2423'\n",
    "m = re.search('\\d{10,}', phone2)\n",
    "print m\n",
    "\n",
    "phone3 = ''\n",
    "m = re.search('\\d{0,}', phone3)\n",
    "print m\n",
    "\n",
    "phone3 = ''\n",
    "m = re.search('\\d*', phone3) # {0,}\n",
    "print m\n",
    "\n",
    "\n",
    "phone4 = '2'\n",
    "m = re.search('\\d{1,}', phone4)\n",
    "print m\n",
    "\n",
    "phone4 = '2'\n",
    "m = re.search('\\d+', phone3) # {1,}\n",
    "print m"
   ]
  },
  {
   "cell_type": "code",
   "execution_count": 52,
   "metadata": {
    "collapsed": false
   },
   "outputs": [
    {
     "name": "stdout",
     "output_type": "stream",
     "text": [
      "[<_sre.SRE_Match object at 0x000000000A5F3C60>, None, None, <_sre.SRE_Match object at 0x000000000A5F3D98>]\n",
      "[<_sre.SRE_Match object at 0x000000000A5F3C60>, <_sre.SRE_Match object at 0x000000000A5F3D98>, <_sre.SRE_Match object at 0x000000000A5F34A8>, <_sre.SRE_Match object at 0x000000000A5F3510>]\n",
      "[<_sre.SRE_Match object at 0x000000000A5F3C60>, <_sre.SRE_Match object at 0x000000000A5F3D98>, <_sre.SRE_Match object at 0x000000000A5F34A8>, None]\n"
     ]
    }
   ],
   "source": [
    "phones = ['0912345678', '0912-345678', '0912-345-678', '0912345678912345']\n",
    "print [re.search('\\d{10}', phone) for phone in phones]\n",
    "print [re.search('\\d{4}-{0,1}\\d{3}-?\\d{3}', phone) for phone in phones] #{0,1} => ?\n",
    "print [re.search('^\\d{4}-?\\d{3}-?\\d{3}$', phone) for phone in phones]"
   ]
  },
  {
   "cell_type": "code",
   "execution_count": 54,
   "metadata": {
    "collapsed": false
   },
   "outputs": [
    {
     "name": "stdout",
     "output_type": "stream",
     "text": [
      "[<_sre.SRE_Match object at 0x000000000A5F3C60>, None, None, <_sre.SRE_Match object at 0x000000000A5F3510>, None]\n"
     ]
    }
   ],
   "source": [
    "emails = ['a@gmail.com', '0912@vcool.com', '1-1*@1', 'a@qoo.com.tw', 'thisisatest']\n",
    "print [re.search('^[a-z]\\w*@\\w+\\..+', email) for email in emails]"
   ]
  },
  {
   "cell_type": "code",
   "execution_count": 56,
   "metadata": {
    "collapsed": false
   },
   "outputs": [
    {
     "data": {
      "text/html": [
       "<div>\n",
       "<table border=\"1\" class=\"dataframe\">\n",
       "  <thead>\n",
       "    <tr style=\"text-align: right;\">\n",
       "      <th></th>\n",
       "      <th>公司代號</th>\n",
       "      <th>公司名稱</th>\n",
       "      <th>產業別</th>\n",
       "      <th>基本每股盈餘(元)</th>\n",
       "      <th>普通股每股面額</th>\n",
       "      <th>營業收入</th>\n",
       "      <th>營業利益</th>\n",
       "      <th>營業外收入及支出</th>\n",
       "      <th>稅後淨利</th>\n",
       "    </tr>\n",
       "  </thead>\n",
       "  <tbody>\n",
       "    <tr>\n",
       "      <th>0</th>\n",
       "      <td>1104</td>\n",
       "      <td>環球水泥股份有限公司</td>\n",
       "      <td>水泥工業</td>\n",
       "      <td>1.46</td>\n",
       "      <td>新台幣 10.0000元</td>\n",
       "      <td>3770779</td>\n",
       "      <td>96507</td>\n",
       "      <td>886531</td>\n",
       "      <td>909732</td>\n",
       "    </tr>\n",
       "    <tr>\n",
       "      <th>1</th>\n",
       "      <td>1102</td>\n",
       "      <td>亞洲水泥股份有限公司</td>\n",
       "      <td>水泥工業</td>\n",
       "      <td>1.41</td>\n",
       "      <td>新台幣 10.0000元</td>\n",
       "      <td>49113910</td>\n",
       "      <td>2854548</td>\n",
       "      <td>2234539</td>\n",
       "      <td>4406554</td>\n",
       "    </tr>\n",
       "    <tr>\n",
       "      <th>2</th>\n",
       "      <td>1101</td>\n",
       "      <td>台灣水泥股份有限公司</td>\n",
       "      <td>水泥工業</td>\n",
       "      <td>1.08</td>\n",
       "      <td>新台幣 10.0000元</td>\n",
       "      <td>69118302</td>\n",
       "      <td>6607616</td>\n",
       "      <td>-723929</td>\n",
       "      <td>4691790</td>\n",
       "    </tr>\n",
       "    <tr>\n",
       "      <th>3</th>\n",
       "      <td>1108</td>\n",
       "      <td>幸福水泥股份有限公司</td>\n",
       "      <td>水泥工業</td>\n",
       "      <td>1.01</td>\n",
       "      <td>新台幣 10.0000元</td>\n",
       "      <td>3765704</td>\n",
       "      <td>559253</td>\n",
       "      <td>-17865</td>\n",
       "      <td>399494</td>\n",
       "    </tr>\n",
       "    <tr>\n",
       "      <th>5</th>\n",
       "      <td>1110</td>\n",
       "      <td>東南水泥股份有限公司</td>\n",
       "      <td>水泥工業</td>\n",
       "      <td>0.21</td>\n",
       "      <td>新台幣 10.0000元</td>\n",
       "      <td>1371851</td>\n",
       "      <td>69135</td>\n",
       "      <td>53277</td>\n",
       "      <td>122288</td>\n",
       "    </tr>\n",
       "    <tr>\n",
       "      <th>7</th>\n",
       "      <td>1109</td>\n",
       "      <td>信大水泥股份有限公司</td>\n",
       "      <td>水泥工業</td>\n",
       "      <td>-0.09</td>\n",
       "      <td>新台幣 10.0000元</td>\n",
       "      <td>3204963</td>\n",
       "      <td>-6131</td>\n",
       "      <td>-48231</td>\n",
       "      <td>-101495</td>\n",
       "    </tr>\n",
       "    <tr>\n",
       "      <th>8</th>\n",
       "      <td>1103</td>\n",
       "      <td>嘉新水泥股份有限公司</td>\n",
       "      <td>水泥工業</td>\n",
       "      <td>-0.62</td>\n",
       "      <td>新台幣 10.0000元</td>\n",
       "      <td>1957612</td>\n",
       "      <td>-400817</td>\n",
       "      <td>31022</td>\n",
       "      <td>-384582</td>\n",
       "    </tr>\n",
       "  </tbody>\n",
       "</table>\n",
       "</div>"
      ],
      "text/plain": [
       "   公司代號        公司名稱   產業別  基本每股盈餘(元)       普通股每股面額      營業收入     營業利益  \\\n",
       "0  1104  環球水泥股份有限公司  水泥工業       1.46  新台幣 10.0000元   3770779    96507   \n",
       "1  1102  亞洲水泥股份有限公司  水泥工業       1.41  新台幣 10.0000元  49113910  2854548   \n",
       "2  1101  台灣水泥股份有限公司  水泥工業       1.08  新台幣 10.0000元  69118302  6607616   \n",
       "3  1108  幸福水泥股份有限公司  水泥工業       1.01  新台幣 10.0000元   3765704   559253   \n",
       "5  1110  東南水泥股份有限公司  水泥工業       0.21  新台幣 10.0000元   1371851    69135   \n",
       "7  1109  信大水泥股份有限公司  水泥工業      -0.09  新台幣 10.0000元   3204963    -6131   \n",
       "8  1103  嘉新水泥股份有限公司  水泥工業      -0.62  新台幣 10.0000元   1957612  -400817   \n",
       "\n",
       "   營業外收入及支出     稅後淨利  \n",
       "0    886531   909732  \n",
       "1   2234539  4406554  \n",
       "2   -723929  4691790  \n",
       "3    -17865   399494  \n",
       "5     53277   122288  \n",
       "7    -48231  -101495  \n",
       "8     31022  -384582  "
      ]
     },
     "execution_count": 56,
     "metadata": {},
     "output_type": "execute_result"
    }
   ],
   "source": [
    "df = dfs[0]\n",
    "df[df['公司代號'.decode('utf-8')].str.match('^[0-9]+')]"
   ]
  },
  {
   "cell_type": "code",
   "execution_count": 57,
   "metadata": {
    "collapsed": true
   },
   "outputs": [],
   "source": [
    "dfall = []\n",
    "for df in dfs:\n",
    "    dfall.append(df[df['公司代號'.decode('utf-8')].str.match('^\\d+')])"
   ]
  },
  {
   "cell_type": "code",
   "execution_count": 60,
   "metadata": {
    "collapsed": false
   },
   "outputs": [],
   "source": [
    "stockdf = pd.concat(dfall, ignore_index=True)"
   ]
  },
  {
   "cell_type": "code",
   "execution_count": 63,
   "metadata": {
    "collapsed": false
   },
   "outputs": [
    {
     "name": "stdout",
     "output_type": "stream",
     "text": [
      "<type 'unicode'>\n"
     ]
    }
   ],
   "source": [
    "print type('公司代號'.decode('utf-8'))"
   ]
  },
  {
   "cell_type": "code",
   "execution_count": 62,
   "metadata": {
    "collapsed": false,
    "scrolled": false
   },
   "outputs": [
    {
     "data": {
      "text/html": [
       "<div>\n",
       "<table border=\"1\" class=\"dataframe\">\n",
       "  <thead>\n",
       "    <tr style=\"text-align: right;\">\n",
       "      <th></th>\n",
       "      <th>公司代號</th>\n",
       "      <th>公司名稱</th>\n",
       "      <th>產業別</th>\n",
       "      <th>基本每股盈餘(元)</th>\n",
       "      <th>普通股每股面額</th>\n",
       "      <th>營業收入</th>\n",
       "      <th>營業利益</th>\n",
       "      <th>營業外收入及支出</th>\n",
       "      <th>稅後淨利</th>\n",
       "    </tr>\n",
       "  </thead>\n",
       "  <tbody>\n",
       "    <tr>\n",
       "      <th>475</th>\n",
       "      <td>2330</td>\n",
       "      <td>台灣積體電路製造股份有限公司</td>\n",
       "      <td>半導體業</td>\n",
       "      <td>9.01</td>\n",
       "      <td>新台幣 10.0000元</td>\n",
       "      <td>639978805</td>\n",
       "      <td>2.42084e+08</td>\n",
       "      <td>2.77012e+07</td>\n",
       "      <td>233714112</td>\n",
       "    </tr>\n",
       "  </tbody>\n",
       "</table>\n",
       "</div>"
      ],
      "text/plain": [
       "     公司代號            公司名稱   產業別  基本每股盈餘(元)       普通股每股面額       營業收入  \\\n",
       "475  2330  台灣積體電路製造股份有限公司  半導體業       9.01  新台幣 10.0000元  639978805   \n",
       "\n",
       "            營業利益     營業外收入及支出       稅後淨利  \n",
       "475  2.42084e+08  2.77012e+07  233714112  "
      ]
     },
     "execution_count": 62,
     "metadata": {},
     "output_type": "execute_result"
    }
   ],
   "source": [
    "stockdf[stockdf['公司代號'.decode('utf-8')] == '2330']"
   ]
  },
  {
   "cell_type": "code",
   "execution_count": 68,
   "metadata": {
    "collapsed": false
   },
   "outputs": [
    {
     "data": {
      "text/html": [
       "<div>\n",
       "<table border=\"1\" class=\"dataframe\">\n",
       "  <thead>\n",
       "    <tr style=\"text-align: right;\">\n",
       "      <th></th>\n",
       "      <th>公司代號</th>\n",
       "      <th>公司名稱</th>\n",
       "      <th>產業別</th>\n",
       "      <th>基本每股盈餘(元)</th>\n",
       "      <th>普通股每股面額</th>\n",
       "      <th>營業收入</th>\n",
       "      <th>營業利益</th>\n",
       "      <th>營業外收入及支出</th>\n",
       "      <th>稅後淨利</th>\n",
       "    </tr>\n",
       "  </thead>\n",
       "  <tbody>\n",
       "    <tr>\n",
       "      <th>52</th>\n",
       "      <td>1476</td>\n",
       "      <td>儒鴻企業股份有限公司</td>\n",
       "      <td>紡織纖維</td>\n",
       "      <td>11.41</td>\n",
       "      <td>新台幣 10.0000元</td>\n",
       "      <td>18275760</td>\n",
       "      <td>3425355</td>\n",
       "      <td>263346</td>\n",
       "      <td>2977439</td>\n",
       "    </tr>\n",
       "    <tr>\n",
       "      <th>98</th>\n",
       "      <td>2231</td>\n",
       "      <td>為升電裝工業股份有限公司</td>\n",
       "      <td>電機機械</td>\n",
       "      <td>11.64</td>\n",
       "      <td>新台幣 10.0000元</td>\n",
       "      <td>2082184</td>\n",
       "      <td>921532</td>\n",
       "      <td>59504</td>\n",
       "      <td>845766</td>\n",
       "    </tr>\n",
       "    <tr>\n",
       "      <th>99</th>\n",
       "      <td>1558</td>\n",
       "      <td>伸興工業股份有限公司</td>\n",
       "      <td>電機機械</td>\n",
       "      <td>11.26</td>\n",
       "      <td>新台幣 10.0000元</td>\n",
       "      <td>4617882</td>\n",
       "      <td>744491</td>\n",
       "      <td>164209</td>\n",
       "      <td>688361</td>\n",
       "    </tr>\n",
       "    <tr>\n",
       "      <th>218</th>\n",
       "      <td>2207</td>\n",
       "      <td>和泰汽車股份有限公司</td>\n",
       "      <td>汽車工業</td>\n",
       "      <td>14.09</td>\n",
       "      <td>新台幣 10.0000元</td>\n",
       "      <td>119012461</td>\n",
       "      <td>7.39849e+06</td>\n",
       "      <td>2.99448e+06</td>\n",
       "      <td>8522347</td>\n",
       "    </tr>\n",
       "    <tr>\n",
       "      <th>219</th>\n",
       "      <td>2227</td>\n",
       "      <td>裕隆日產汽車股份有限公司</td>\n",
       "      <td>汽車工業</td>\n",
       "      <td>10.89</td>\n",
       "      <td>新台幣 10.0000元</td>\n",
       "      <td>26593629</td>\n",
       "      <td>978662</td>\n",
       "      <td>2.93615e+06</td>\n",
       "      <td>3266264</td>\n",
       "    </tr>\n",
       "    <tr>\n",
       "      <th>409</th>\n",
       "      <td>1704</td>\n",
       "      <td>李長榮化學工業股份有限公司</td>\n",
       "      <td>化學工業</td>\n",
       "      <td>10.15</td>\n",
       "      <td>新台幣 10.0000元</td>\n",
       "      <td>26651101</td>\n",
       "      <td>1465767</td>\n",
       "      <td>7262830</td>\n",
       "      <td>8453891</td>\n",
       "    </tr>\n",
       "    <tr>\n",
       "      <th>437</th>\n",
       "      <td>6452</td>\n",
       "      <td>康友製藥控股有限公司</td>\n",
       "      <td>生技醫療業</td>\n",
       "      <td>11.15</td>\n",
       "      <td>新台幣 10.0000元</td>\n",
       "      <td>3182078</td>\n",
       "      <td>862112</td>\n",
       "      <td>56297</td>\n",
       "      <td>686792</td>\n",
       "    </tr>\n",
       "    <tr>\n",
       "      <th>473</th>\n",
       "      <td>2454</td>\n",
       "      <td>聯發科技股份有限公司</td>\n",
       "      <td>半導體業</td>\n",
       "      <td>13.77</td>\n",
       "      <td>新台幣 10.0000元</td>\n",
       "      <td>151542321</td>\n",
       "      <td>2.21601e+07</td>\n",
       "      <td>2.46339e+06</td>\n",
       "      <td>21588172</td>\n",
       "    </tr>\n",
       "    <tr>\n",
       "      <th>474</th>\n",
       "      <td>6415</td>\n",
       "      <td>矽力杰股份有限公司</td>\n",
       "      <td>半導體業</td>\n",
       "      <td>10.35</td>\n",
       "      <td>新台幣 10.0000元</td>\n",
       "      <td>3346651</td>\n",
       "      <td>732556</td>\n",
       "      <td>75085</td>\n",
       "      <td>793201</td>\n",
       "    </tr>\n",
       "    <tr>\n",
       "      <th>545</th>\n",
       "      <td>2357</td>\n",
       "      <td>華碩電腦股份有限公司</td>\n",
       "      <td>電腦及週邊設備業</td>\n",
       "      <td>16.90</td>\n",
       "      <td>新台幣 10.0000元</td>\n",
       "      <td>339612346</td>\n",
       "      <td>1.51762e+07</td>\n",
       "      <td>1.17296e+06</td>\n",
       "      <td>12624685</td>\n",
       "    </tr>\n",
       "    <tr>\n",
       "      <th>546</th>\n",
       "      <td>5264</td>\n",
       "      <td>鎧勝控股有限公司</td>\n",
       "      <td>電腦及週邊設備業</td>\n",
       "      <td>10.23</td>\n",
       "      <td>新台幣 10.0000元</td>\n",
       "      <td>26287879</td>\n",
       "      <td>3.50578e+06</td>\n",
       "      <td>1.07385e+06</td>\n",
       "      <td>3475832</td>\n",
       "    </tr>\n",
       "    <tr>\n",
       "      <th>603</th>\n",
       "      <td>3008</td>\n",
       "      <td>大立光電股份有限公司</td>\n",
       "      <td>光電業</td>\n",
       "      <td>129.99</td>\n",
       "      <td>新台幣 10.0000元</td>\n",
       "      <td>40428453</td>\n",
       "      <td>1.97031e+07</td>\n",
       "      <td>1.5696e+06</td>\n",
       "      <td>17437190</td>\n",
       "    </tr>\n",
       "    <tr>\n",
       "      <th>716</th>\n",
       "      <td>2316</td>\n",
       "      <td>楠梓電子股份有限公司</td>\n",
       "      <td>電子零組件業</td>\n",
       "      <td>15.63</td>\n",
       "      <td>新台幣 10.0000元</td>\n",
       "      <td>4783028</td>\n",
       "      <td>176753</td>\n",
       "      <td>5.81545e+06</td>\n",
       "      <td>4959280</td>\n",
       "    </tr>\n",
       "    <tr>\n",
       "      <th>717</th>\n",
       "      <td>2059</td>\n",
       "      <td>川湖科技股份有限公司</td>\n",
       "      <td>電子零組件業</td>\n",
       "      <td>15.30</td>\n",
       "      <td>新台幣 10.0000元</td>\n",
       "      <td>3370426</td>\n",
       "      <td>1.52176e+06</td>\n",
       "      <td>320872</td>\n",
       "      <td>1458231</td>\n",
       "    </tr>\n",
       "    <tr>\n",
       "      <th>810</th>\n",
       "      <td>8070</td>\n",
       "      <td>長華電材股份有限公司</td>\n",
       "      <td>電子通路業</td>\n",
       "      <td>11.40</td>\n",
       "      <td>新台幣 10.0000元</td>\n",
       "      <td>11486788</td>\n",
       "      <td>82461</td>\n",
       "      <td>967092</td>\n",
       "      <td>955294</td>\n",
       "    </tr>\n",
       "    <tr>\n",
       "      <th>842</th>\n",
       "      <td>2474</td>\n",
       "      <td>可成科技股份有限公司</td>\n",
       "      <td>其他電子業</td>\n",
       "      <td>23.43</td>\n",
       "      <td>新台幣 10.0000元</td>\n",
       "      <td>58934080</td>\n",
       "      <td>2.13772e+07</td>\n",
       "      <td>4.01436e+06</td>\n",
       "      <td>18095542</td>\n",
       "    </tr>\n",
       "    <tr>\n",
       "      <th>843</th>\n",
       "      <td>6409</td>\n",
       "      <td>旭隼科技股份有限公司</td>\n",
       "      <td>其他電子業</td>\n",
       "      <td>14.46</td>\n",
       "      <td>新台幣 10.0000元</td>\n",
       "      <td>6092846</td>\n",
       "      <td>1.27859e+06</td>\n",
       "      <td>57729</td>\n",
       "      <td>1075169</td>\n",
       "    </tr>\n",
       "  </tbody>\n",
       "</table>\n",
       "</div>"
      ],
      "text/plain": [
       "     公司代號           公司名稱       產業別  基本每股盈餘(元)       普通股每股面額       營業收入  \\\n",
       "52   1476     儒鴻企業股份有限公司      紡織纖維      11.41  新台幣 10.0000元   18275760   \n",
       "98   2231   為升電裝工業股份有限公司      電機機械      11.64  新台幣 10.0000元    2082184   \n",
       "99   1558     伸興工業股份有限公司      電機機械      11.26  新台幣 10.0000元    4617882   \n",
       "218  2207     和泰汽車股份有限公司      汽車工業      14.09  新台幣 10.0000元  119012461   \n",
       "219  2227   裕隆日產汽車股份有限公司      汽車工業      10.89  新台幣 10.0000元   26593629   \n",
       "409  1704  李長榮化學工業股份有限公司      化學工業      10.15  新台幣 10.0000元   26651101   \n",
       "437  6452     康友製藥控股有限公司     生技醫療業      11.15  新台幣 10.0000元    3182078   \n",
       "473  2454     聯發科技股份有限公司      半導體業      13.77  新台幣 10.0000元  151542321   \n",
       "474  6415      矽力杰股份有限公司      半導體業      10.35  新台幣 10.0000元    3346651   \n",
       "545  2357     華碩電腦股份有限公司  電腦及週邊設備業      16.90  新台幣 10.0000元  339612346   \n",
       "546  5264       鎧勝控股有限公司  電腦及週邊設備業      10.23  新台幣 10.0000元   26287879   \n",
       "603  3008     大立光電股份有限公司       光電業     129.99  新台幣 10.0000元   40428453   \n",
       "716  2316     楠梓電子股份有限公司    電子零組件業      15.63  新台幣 10.0000元    4783028   \n",
       "717  2059     川湖科技股份有限公司    電子零組件業      15.30  新台幣 10.0000元    3370426   \n",
       "810  8070     長華電材股份有限公司     電子通路業      11.40  新台幣 10.0000元   11486788   \n",
       "842  2474     可成科技股份有限公司     其他電子業      23.43  新台幣 10.0000元   58934080   \n",
       "843  6409     旭隼科技股份有限公司     其他電子業      14.46  新台幣 10.0000元    6092846   \n",
       "\n",
       "            營業利益     營業外收入及支出      稅後淨利  \n",
       "52       3425355       263346   2977439  \n",
       "98        921532        59504    845766  \n",
       "99        744491       164209    688361  \n",
       "218  7.39849e+06  2.99448e+06   8522347  \n",
       "219       978662  2.93615e+06   3266264  \n",
       "409      1465767      7262830   8453891  \n",
       "437       862112        56297    686792  \n",
       "473  2.21601e+07  2.46339e+06  21588172  \n",
       "474       732556        75085    793201  \n",
       "545  1.51762e+07  1.17296e+06  12624685  \n",
       "546  3.50578e+06  1.07385e+06   3475832  \n",
       "603  1.97031e+07   1.5696e+06  17437190  \n",
       "716       176753  5.81545e+06   4959280  \n",
       "717  1.52176e+06       320872   1458231  \n",
       "810        82461       967092    955294  \n",
       "842  2.13772e+07  4.01436e+06  18095542  \n",
       "843  1.27859e+06        57729   1075169  "
      ]
     },
     "execution_count": 68,
     "metadata": {},
     "output_type": "execute_result"
    }
   ],
   "source": [
    "stockdf[stockdf['基本每股盈餘(元)'.decode('utf-8')] >=  10]"
   ]
  },
  {
   "cell_type": "code",
   "execution_count": 69,
   "metadata": {
    "collapsed": false
   },
   "outputs": [
    {
     "data": {
      "text/plain": [
       "3052432520.0"
      ]
     },
     "execution_count": 69,
     "metadata": {},
     "output_type": "execute_result"
    }
   ],
   "source": [
    "stockdf['營業收入'.decode('utf-8')].max()"
   ]
  },
  {
   "cell_type": "code",
   "execution_count": 71,
   "metadata": {
    "collapsed": false
   },
   "outputs": [
    {
     "data": {
      "text/html": [
       "<div>\n",
       "<table border=\"1\" class=\"dataframe\">\n",
       "  <thead>\n",
       "    <tr style=\"text-align: right;\">\n",
       "      <th></th>\n",
       "      <th>公司代號</th>\n",
       "      <th>公司名稱</th>\n",
       "      <th>產業別</th>\n",
       "      <th>基本每股盈餘(元)</th>\n",
       "      <th>普通股每股面額</th>\n",
       "      <th>營業收入</th>\n",
       "      <th>營業利益</th>\n",
       "      <th>營業外收入及支出</th>\n",
       "      <th>稅後淨利</th>\n",
       "    </tr>\n",
       "  </thead>\n",
       "  <tbody>\n",
       "    <tr>\n",
       "      <th>846</th>\n",
       "      <td>2317</td>\n",
       "      <td>鴻海精密工業股份有限公司</td>\n",
       "      <td>其他電子業</td>\n",
       "      <td>6.03</td>\n",
       "      <td>新台幣 10.0000元</td>\n",
       "      <td>3052432520</td>\n",
       "      <td>1.09879e+08</td>\n",
       "      <td>1.87399e+07</td>\n",
       "      <td>96511302</td>\n",
       "    </tr>\n",
       "  </tbody>\n",
       "</table>\n",
       "</div>"
      ],
      "text/plain": [
       "     公司代號          公司名稱    產業別  基本每股盈餘(元)       普通股每股面額        營業收入  \\\n",
       "846  2317  鴻海精密工業股份有限公司  其他電子業       6.03  新台幣 10.0000元  3052432520   \n",
       "\n",
       "            營業利益     營業外收入及支出      稅後淨利  \n",
       "846  1.09879e+08  1.87399e+07  96511302  "
      ]
     },
     "execution_count": 71,
     "metadata": {},
     "output_type": "execute_result"
    }
   ],
   "source": [
    "#stockdf['營業收入'.decode('utf-8')] == stockdf['營業收入'.decode('utf-8')].max()\n",
    "stockdf[stockdf['營業收入'.decode('utf-8')] == stockdf['營業收入'.decode('utf-8')].max()]"
   ]
  },
  {
   "cell_type": "code",
   "execution_count": 76,
   "metadata": {
    "collapsed": false
   },
   "outputs": [
    {
     "data": {
      "text/html": [
       "<div>\n",
       "<table border=\"1\" class=\"dataframe\">\n",
       "  <thead>\n",
       "    <tr style=\"text-align: right;\">\n",
       "      <th></th>\n",
       "      <th>公司代號</th>\n",
       "      <th>公司名稱</th>\n",
       "      <th>產業別</th>\n",
       "      <th>基本每股盈餘(元)</th>\n",
       "      <th>普通股每股面額</th>\n",
       "      <th>營業收入</th>\n",
       "      <th>營業利益</th>\n",
       "      <th>營業外收入及支出</th>\n",
       "      <th>稅後淨利</th>\n",
       "    </tr>\n",
       "  </thead>\n",
       "  <tbody>\n",
       "    <tr>\n",
       "      <th>846</th>\n",
       "      <td>2317</td>\n",
       "      <td>鴻海精密工業股份有限公司</td>\n",
       "      <td>其他電子業</td>\n",
       "      <td>6.03</td>\n",
       "      <td>新台幣 10.0000元</td>\n",
       "      <td>3052432520</td>\n",
       "      <td>1.09879e+08</td>\n",
       "      <td>1.87399e+07</td>\n",
       "      <td>96511302</td>\n",
       "    </tr>\n",
       "    <tr>\n",
       "      <th>549</th>\n",
       "      <td>4938</td>\n",
       "      <td>和碩聯合科技股份有限公司</td>\n",
       "      <td>電腦及週邊設備業</td>\n",
       "      <td>6.60</td>\n",
       "      <td>新台幣 10.0000元</td>\n",
       "      <td>801729003</td>\n",
       "      <td>2.64475e+07</td>\n",
       "      <td>794213</td>\n",
       "      <td>20459776</td>\n",
       "    </tr>\n",
       "    <tr>\n",
       "      <th>555</th>\n",
       "      <td>2382</td>\n",
       "      <td>廣達電腦股份有限公司</td>\n",
       "      <td>電腦及週邊設備業</td>\n",
       "      <td>3.34</td>\n",
       "      <td>新台幣 10.0000元</td>\n",
       "      <td>732099688</td>\n",
       "      <td>1.27085e+07</td>\n",
       "      <td>3.84250e+06</td>\n",
       "      <td>12753862</td>\n",
       "    </tr>\n",
       "    <tr>\n",
       "      <th>475</th>\n",
       "      <td>2330</td>\n",
       "      <td>台灣積體電路製造股份有限公司</td>\n",
       "      <td>半導體業</td>\n",
       "      <td>9.01</td>\n",
       "      <td>新台幣 10.0000元</td>\n",
       "      <td>639978805</td>\n",
       "      <td>2.42084e+08</td>\n",
       "      <td>2.77012e+07</td>\n",
       "      <td>233714112</td>\n",
       "    </tr>\n",
       "    <tr>\n",
       "      <th>573</th>\n",
       "      <td>2324</td>\n",
       "      <td>仁寶電腦工業股份有限公司</td>\n",
       "      <td>電腦及週邊設備業</td>\n",
       "      <td>1.48</td>\n",
       "      <td>新台幣 10.0000元</td>\n",
       "      <td>613007343</td>\n",
       "      <td>8.22817e+06</td>\n",
       "      <td>502059</td>\n",
       "      <td>6594618</td>\n",
       "    </tr>\n",
       "  </tbody>\n",
       "</table>\n",
       "</div>"
      ],
      "text/plain": [
       "     公司代號            公司名稱       產業別  基本每股盈餘(元)       普通股每股面額        營業收入  \\\n",
       "846  2317    鴻海精密工業股份有限公司     其他電子業       6.03  新台幣 10.0000元  3052432520   \n",
       "549  4938    和碩聯合科技股份有限公司  電腦及週邊設備業       6.60  新台幣 10.0000元   801729003   \n",
       "555  2382      廣達電腦股份有限公司  電腦及週邊設備業       3.34  新台幣 10.0000元   732099688   \n",
       "475  2330  台灣積體電路製造股份有限公司      半導體業       9.01  新台幣 10.0000元   639978805   \n",
       "573  2324    仁寶電腦工業股份有限公司  電腦及週邊設備業       1.48  新台幣 10.0000元   613007343   \n",
       "\n",
       "            營業利益     營業外收入及支出       稅後淨利  \n",
       "846  1.09879e+08  1.87399e+07   96511302  \n",
       "549  2.64475e+07       794213   20459776  \n",
       "555  1.27085e+07  3.84250e+06   12753862  \n",
       "475  2.42084e+08  2.77012e+07  233714112  \n",
       "573  8.22817e+06       502059    6594618  "
      ]
     },
     "execution_count": 76,
     "metadata": {},
     "output_type": "execute_result"
    }
   ],
   "source": [
    "stockdf.sort_values(by= '營業收入'.decode('utf-8'), ascending=False).head()"
   ]
  },
  {
   "cell_type": "code",
   "execution_count": 80,
   "metadata": {
    "collapsed": false
   },
   "outputs": [],
   "source": [
    "df1 = stockdf.groupby(['產業別'.decode('utf-8')], sort=False)['營業收入'.decode('utf-8')].sum()"
   ]
  },
  {
   "cell_type": "code",
   "execution_count": 82,
   "metadata": {
    "collapsed": false
   },
   "outputs": [
    {
     "data": {
      "text/plain": [
       "產業別\n",
       "水泥工業         132303121\n",
       "食品工業         505091370\n",
       "塑膠工業         840187791\n",
       "紡織纖維         379681168\n",
       "電機機械         308412261\n",
       "電器電纜         202547629\n",
       "玻璃陶瓷          42783872\n",
       "造紙工業         120633641\n",
       "鋼鐵工業         504617008\n",
       "橡膠工業         177602475\n",
       "汽車工業         304923813\n",
       "建材營造         213615275\n",
       "航運業          549371461\n",
       "觀光事業          62091361\n",
       "金融保險業       1645742610\n",
       "貿易百貨         426482210\n",
       "其他           649938457\n",
       "化學工業         224345958\n",
       "生技醫療業         66545122\n",
       "油電燃氣業        515749199\n",
       "半導體業        1676527822\n",
       "電腦及週邊設備業    4126129991\n",
       "光電業         1194369220\n",
       "通信網路業        713877274\n",
       "電子零組件業       957895898\n",
       "電子通路業       1003505805\n",
       "資訊服務業         35675754\n",
       "其他電子業       3344724542\n",
       "Name: 營業收入, dtype: float64"
      ]
     },
     "execution_count": 82,
     "metadata": {},
     "output_type": "execute_result"
    }
   ],
   "source": [
    "df1"
   ]
  },
  {
   "cell_type": "code",
   "execution_count": 83,
   "metadata": {
    "collapsed": true
   },
   "outputs": [],
   "source": [
    "df2 = stockdf.groupby(['產業別'.decode('utf-8')], sort=False)['營業收入'.decode('utf-8')].max()"
   ]
  },
  {
   "cell_type": "code",
   "execution_count": 84,
   "metadata": {
    "collapsed": false
   },
   "outputs": [
    {
     "data": {
      "text/plain": [
       "產業別\n",
       "水泥工業          69118302\n",
       "食品工業         320635395\n",
       "塑膠工業         250678904\n",
       "紡織纖維         160880353\n",
       "電機機械          71697873\n",
       "電器電纜         111900156\n",
       "玻璃陶瓷          30332940\n",
       "造紙工業          47165849\n",
       "鋼鐵工業         222060055\n",
       "橡膠工業          89243212\n",
       "汽車工業         119012461\n",
       "建材營造          21313146\n",
       "航運業          109874296\n",
       "觀光事業          16295035\n",
       "金融保險業        348579020\n",
       "貿易百貨         153065676\n",
       "其他           198449597\n",
       "化學工業          30423078\n",
       "生技醫療業         11138402\n",
       "油電燃氣業        479217566\n",
       "半導體業         639978805\n",
       "電腦及週邊設備業     801729003\n",
       "光電業          282669377\n",
       "通信網路業        169571048\n",
       "電子零組件業       147843416\n",
       "電子通路業        372935787\n",
       "資訊服務業         11566283\n",
       "其他電子業       3052432520\n",
       "Name: 營業收入, dtype: float64"
      ]
     },
     "execution_count": 84,
     "metadata": {},
     "output_type": "execute_result"
    }
   ],
   "source": [
    "df2"
   ]
  },
  {
   "cell_type": "code",
   "execution_count": 90,
   "metadata": {
    "collapsed": false
   },
   "outputs": [
    {
     "data": {
      "text/html": [
       "<div>\n",
       "<table border=\"1\" class=\"dataframe\">\n",
       "  <thead>\n",
       "    <tr style=\"text-align: right;\">\n",
       "      <th></th>\n",
       "      <th>公司代號</th>\n",
       "      <th>公司名稱</th>\n",
       "      <th>產業別</th>\n",
       "      <th>基本每股盈餘(元)</th>\n",
       "      <th>普通股每股面額</th>\n",
       "      <th>營業收入</th>\n",
       "      <th>營業利益</th>\n",
       "      <th>營業外收入及支出</th>\n",
       "      <th>稅後淨利</th>\n",
       "    </tr>\n",
       "  </thead>\n",
       "  <tbody>\n",
       "    <tr>\n",
       "      <th>2</th>\n",
       "      <td>1101</td>\n",
       "      <td>台灣水泥股份有限公司</td>\n",
       "      <td>水泥工業</td>\n",
       "      <td>1.08</td>\n",
       "      <td>新台幣 10.0000元</td>\n",
       "      <td>69118302</td>\n",
       "      <td>6.60762e+06</td>\n",
       "      <td>-723929</td>\n",
       "      <td>4691790</td>\n",
       "    </tr>\n",
       "    <tr>\n",
       "      <th>11</th>\n",
       "      <td>1216</td>\n",
       "      <td>統一企業股份有限公司</td>\n",
       "      <td>食品工業</td>\n",
       "      <td>2.21</td>\n",
       "      <td>新台幣 10.0000元</td>\n",
       "      <td>320635395</td>\n",
       "      <td>1.86818e+07</td>\n",
       "      <td>5.63372e+06</td>\n",
       "      <td>19357662</td>\n",
       "    </tr>\n",
       "    <tr>\n",
       "      <th>32</th>\n",
       "      <td>1326</td>\n",
       "      <td>台灣化學纖維股份有限公司</td>\n",
       "      <td>塑膠工業</td>\n",
       "      <td>3.68</td>\n",
       "      <td>新台幣 10.0000元</td>\n",
       "      <td>250678904</td>\n",
       "      <td>1.49122e+07</td>\n",
       "      <td>1.31223e+07</td>\n",
       "      <td>24503738</td>\n",
       "    </tr>\n",
       "    <tr>\n",
       "      <th>57</th>\n",
       "      <td>1402</td>\n",
       "      <td>遠東新世紀股份有限公司</td>\n",
       "      <td>紡織纖維</td>\n",
       "      <td>1.42</td>\n",
       "      <td>新台幣 10.0000元</td>\n",
       "      <td>160880353</td>\n",
       "      <td>12170874</td>\n",
       "      <td>4410489</td>\n",
       "      <td>12571397</td>\n",
       "    </tr>\n",
       "    <tr>\n",
       "      <th>145</th>\n",
       "      <td>2371</td>\n",
       "      <td>大同股份有限公司</td>\n",
       "      <td>電機機械</td>\n",
       "      <td>-0.91</td>\n",
       "      <td>新台幣 10.0000元</td>\n",
       "      <td>71697873</td>\n",
       "      <td>-7.32828e+06</td>\n",
       "      <td>287023</td>\n",
       "      <td>-7715882</td>\n",
       "    </tr>\n",
       "  </tbody>\n",
       "</table>\n",
       "</div>"
      ],
      "text/plain": [
       "     公司代號          公司名稱   產業別  基本每股盈餘(元)       普通股每股面額       營業收入  \\\n",
       "2    1101    台灣水泥股份有限公司  水泥工業       1.08  新台幣 10.0000元   69118302   \n",
       "11   1216    統一企業股份有限公司  食品工業       2.21  新台幣 10.0000元  320635395   \n",
       "32   1326  台灣化學纖維股份有限公司  塑膠工業       3.68  新台幣 10.0000元  250678904   \n",
       "57   1402   遠東新世紀股份有限公司  紡織纖維       1.42  新台幣 10.0000元  160880353   \n",
       "145  2371      大同股份有限公司  電機機械      -0.91  新台幣 10.0000元   71697873   \n",
       "\n",
       "            營業利益     營業外收入及支出      稅後淨利  \n",
       "2    6.60762e+06      -723929   4691790  \n",
       "11   1.86818e+07  5.63372e+06  19357662  \n",
       "32   1.49122e+07  1.31223e+07  24503738  \n",
       "57      12170874      4410489  12571397  \n",
       "145 -7.32828e+06       287023  -7715882  "
      ]
     },
     "execution_count": 90,
     "metadata": {},
     "output_type": "execute_result"
    }
   ],
   "source": [
    "idx = stockdf.groupby(['產業別'.decode('utf-8')])['營業收入'.decode('utf-8')].transform(max) == stockdf['營業收入'.decode('utf-8')]\n",
    "stockdf[idx].head()"
   ]
  },
  {
   "cell_type": "code",
   "execution_count": null,
   "metadata": {
    "collapsed": true
   },
   "outputs": [],
   "source": []
  }
 ],
 "metadata": {
  "kernelspec": {
   "display_name": "Python 2",
   "language": "python",
   "name": "python2"
  },
  "language_info": {
   "codemirror_mode": {
    "name": "ipython",
    "version": 2
   },
   "file_extension": ".py",
   "mimetype": "text/x-python",
   "name": "python",
   "nbconvert_exporter": "python",
   "pygments_lexer": "ipython2",
   "version": "2.7.11"
  }
 },
 "nbformat": 4,
 "nbformat_minor": 0
}
