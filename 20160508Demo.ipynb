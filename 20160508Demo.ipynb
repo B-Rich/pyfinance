{
 "cells": [
  {
   "cell_type": "code",
   "execution_count": 1,
   "metadata": {
    "collapsed": false,
    "scrolled": true
   },
   "outputs": [
    {
     "name": "stdout",
     "output_type": "stream",
     "text": [
      "5\n"
     ]
    }
   ],
   "source": [
    "a = 3\n",
    "b = 2\n",
    "print(a+b)"
   ]
  },
  {
   "cell_type": "code",
   "execution_count": 2,
   "metadata": {
    "collapsed": false
   },
   "outputs": [
    {
     "name": "stdout",
     "output_type": "stream",
     "text": [
      "11\n"
     ]
    }
   ],
   "source": [
    "print(a+8)"
   ]
  },
  {
   "cell_type": "code",
   "execution_count": 4,
   "metadata": {
    "collapsed": false
   },
   "outputs": [
    {
     "name": "stdout",
     "output_type": "stream",
     "text": [
      "<Response [200]>\n"
     ]
    }
   ],
   "source": [
    "import requests\n",
    "res = requests.get('https://tw.stock.yahoo.com/q/q?s=2330')\n",
    "print res"
   ]
  },
  {
   "cell_type": "code",
   "execution_count": 8,
   "metadata": {
    "collapsed": false
   },
   "outputs": [],
   "source": [
    "#print res.text"
   ]
  },
  {
   "cell_type": "code",
   "execution_count": 9,
   "metadata": {
    "collapsed": false
   },
   "outputs": [
    {
     "data": {
      "text/plain": [
       "['ConnectionError',\n",
       " 'FileModeWarning',\n",
       " 'HTTPError',\n",
       " 'NullHandler',\n",
       " 'PreparedRequest',\n",
       " 'Request',\n",
       " 'RequestException',\n",
       " 'Response',\n",
       " 'Session',\n",
       " 'Timeout',\n",
       " 'TooManyRedirects',\n",
       " 'URLRequired',\n",
       " '__author__',\n",
       " '__build__',\n",
       " '__builtins__',\n",
       " '__copyright__',\n",
       " '__doc__',\n",
       " '__file__',\n",
       " '__license__',\n",
       " '__name__',\n",
       " '__package__',\n",
       " '__path__',\n",
       " '__title__',\n",
       " '__version__',\n",
       " 'adapters',\n",
       " 'api',\n",
       " 'auth',\n",
       " 'certs',\n",
       " 'codes',\n",
       " 'compat',\n",
       " 'cookies',\n",
       " 'delete',\n",
       " 'exceptions',\n",
       " 'get',\n",
       " 'head',\n",
       " 'hooks',\n",
       " 'logging',\n",
       " 'models',\n",
       " 'options',\n",
       " 'packages',\n",
       " 'patch',\n",
       " 'post',\n",
       " 'put',\n",
       " 'request',\n",
       " 'session',\n",
       " 'sessions',\n",
       " 'status_codes',\n",
       " 'structures',\n",
       " 'utils',\n",
       " 'warnings']"
      ]
     },
     "execution_count": 9,
     "metadata": {},
     "output_type": "execute_result"
    }
   ],
   "source": [
    "dir(requests)"
   ]
  },
  {
   "cell_type": "code",
   "execution_count": 10,
   "metadata": {
    "collapsed": false
   },
   "outputs": [
    {
     "name": "stdout",
     "output_type": "stream",
     "text": [
      "Help on package requests:\n",
      "\n",
      "NAME\n",
      "    requests\n",
      "\n",
      "FILE\n",
      "    c:\\anaconda2\\lib\\site-packages\\requests\\__init__.py\n",
      "\n",
      "DESCRIPTION\n",
      "    Requests HTTP library\n",
      "    ~~~~~~~~~~~~~~~~~~~~~\n",
      "    \n",
      "    Requests is an HTTP library, written in Python, for human beings. Basic GET\n",
      "    usage:\n",
      "    \n",
      "       >>> import requests\n",
      "       >>> r = requests.get('https://www.python.org')\n",
      "       >>> r.status_code\n",
      "       200\n",
      "       >>> 'Python is a programming language' in r.content\n",
      "       True\n",
      "    \n",
      "    ... or POST:\n",
      "    \n",
      "       >>> payload = dict(key1='value1', key2='value2')\n",
      "       >>> r = requests.post('http://httpbin.org/post', data=payload)\n",
      "       >>> print(r.text)\n",
      "       {\n",
      "         ...\n",
      "         \"form\": {\n",
      "           \"key2\": \"value2\",\n",
      "           \"key1\": \"value1\"\n",
      "         },\n",
      "         ...\n",
      "       }\n",
      "    \n",
      "    The other HTTP methods are supported - see `requests.api`. Full documentation\n",
      "    is at <http://python-requests.org>.\n",
      "    \n",
      "    :copyright: (c) 2015 by Kenneth Reitz.\n",
      "    :license: Apache 2.0, see LICENSE for more details.\n",
      "\n",
      "PACKAGE CONTENTS\n",
      "    adapters\n",
      "    api\n",
      "    auth\n",
      "    certs\n",
      "    compat\n",
      "    cookies\n",
      "    exceptions\n",
      "    hooks\n",
      "    models\n",
      "    packages (package)\n",
      "    sessions\n",
      "    status_codes\n",
      "    structures\n",
      "    utils\n",
      "\n",
      "DATA\n",
      "    __author__ = 'Kenneth Reitz'\n",
      "    __build__ = 133377\n",
      "    __copyright__ = 'Copyright 2015 Kenneth Reitz'\n",
      "    __license__ = 'Apache 2.0'\n",
      "    __title__ = 'requests'\n",
      "    __version__ = '2.9.1'\n",
      "    codes = <lookup 'status_codes'>\n",
      "\n",
      "VERSION\n",
      "    2.9.1\n",
      "\n",
      "AUTHOR\n",
      "    Kenneth Reitz\n",
      "\n",
      "\n"
     ]
    }
   ],
   "source": [
    "help(requests)"
   ]
  },
  {
   "cell_type": "code",
   "execution_count": 11,
   "metadata": {
    "collapsed": true
   },
   "outputs": [],
   "source": [
    "?requests"
   ]
  },
  {
   "cell_type": "code",
   "execution_count": 12,
   "metadata": {
    "collapsed": false
   },
   "outputs": [
    {
     "name": "stdout",
     "output_type": "stream",
     "text": [
      "<Response [200]>\n"
     ]
    }
   ],
   "source": [
    "import requests\n",
    "payload = {\n",
    "'qdate':'105/05/06',\n",
    "'select2':'ALL',\n",
    "'sorting':'by_issue'    \n",
    "}\n",
    "\n",
    "url = 'http://www.twse.com.tw/ch/trading/fund/T86/T86.php'\n",
    "res = requests.post(url , data = payload )\n",
    "print res"
   ]
  },
  {
   "cell_type": "code",
   "execution_count": 22,
   "metadata": {
    "collapsed": false
   },
   "outputs": [
    {
     "name": "stdout",
     "output_type": "stream",
     "text": [
      "<class 'requests.models.Response'>\n"
     ]
    }
   ],
   "source": [
    "print type(res)\n",
    "#print res.text"
   ]
  },
  {
   "cell_type": "markdown",
   "metadata": {},
   "source": [
    "## BeautifulSoup"
   ]
  },
  {
   "cell_type": "code",
   "execution_count": 23,
   "metadata": {
    "collapsed": false
   },
   "outputs": [
    {
     "name": "stdout",
     "output_type": "stream",
     "text": [
      "<class 'bs4.BeautifulSoup'>\n",
      "\n",
      "\n",
      "\n",
      "Hello World\n",
      "This is link1\n",
      "This is link2\n",
      "\n",
      "\n"
     ]
    }
   ],
   "source": [
    "from bs4 import BeautifulSoup \n",
    "html_sample = ''' \n",
    "<html> \n",
    " <body> \n",
    " <h1 id=\"title\">Hello World</h1> \n",
    " <a href=\"#\" class=\"link\">This is link1</a> \n",
    " <a href=\"# link2\" class=\"link\">This is link2</a> \n",
    " </body> \n",
    " </html>'''\n",
    "\n",
    "soup = BeautifulSoup(html_sample, 'html.parser')\n",
    "print type(soup)\n",
    "print soup.text"
   ]
  },
  {
   "cell_type": "markdown",
   "metadata": {},
   "source": [
    "## select by tag"
   ]
  },
  {
   "cell_type": "code",
   "execution_count": 24,
   "metadata": {
    "collapsed": false
   },
   "outputs": [
    {
     "name": "stdout",
     "output_type": "stream",
     "text": [
      "[<a class=\"link\" href=\"#\">This is link1</a>, <a class=\"link\" href=\"# link2\">This is link2</a>]\n"
     ]
    }
   ],
   "source": [
    "print soup.select('a')"
   ]
  },
  {
   "cell_type": "code",
   "execution_count": 34,
   "metadata": {
    "collapsed": false
   },
   "outputs": [
    {
     "name": "stdout",
     "output_type": "stream",
     "text": [
      "<a class=\"link\" href=\"#\">This is link1</a>\n",
      "<a class=\"link\" href=\"# link2\">This is link2</a>\n"
     ]
    }
   ],
   "source": [
    "alinks = soup.select('a')\n",
    "print alinks[0]\n",
    "print alinks[1]"
   ]
  },
  {
   "cell_type": "code",
   "execution_count": 35,
   "metadata": {
    "collapsed": false
   },
   "outputs": [
    {
     "name": "stdout",
     "output_type": "stream",
     "text": [
      "<a class=\"link\" href=\"#\">This is link1</a>\n",
      "<a class=\"link\" href=\"# link2\">This is link2</a>\n"
     ]
    }
   ],
   "source": [
    "for qoo in alinks:\n",
    "    print qoo"
   ]
  },
  {
   "cell_type": "code",
   "execution_count": 38,
   "metadata": {
    "collapsed": false
   },
   "outputs": [
    {
     "name": "stdout",
     "output_type": "stream",
     "text": [
      "<h1 id=\"title\">Hello World</h1>\n"
     ]
    }
   ],
   "source": [
    "h1 =  soup.select('h1')\n",
    "print h1[0]"
   ]
  },
  {
   "cell_type": "markdown",
   "metadata": {},
   "source": [
    "## list operation"
   ]
  },
  {
   "cell_type": "markdown",
   "metadata": {},
   "source": [
    "- list => []\n",
    "- dictionary => {}\n",
    "- tuple = > ()"
   ]
  },
  {
   "cell_type": "code",
   "execution_count": 29,
   "metadata": {
    "collapsed": false
   },
   "outputs": [
    {
     "name": "stdout",
     "output_type": "stream",
     "text": [
      "[175, 172, 180]\n",
      "175\n",
      "180\n",
      "[175, 172, 180, 166]\n",
      "[175, 172, 180]\n",
      "[172, 175, 180]\n"
     ]
    }
   ],
   "source": [
    "height = 175\n",
    "heights = [175, 172, 180]\n",
    "print heights\n",
    "print heights[0] # get first element\n",
    "print heights[-1] # get last element\n",
    "\n",
    "heights.append(166) #add new element\n",
    "print heights\n",
    "heights.pop() # remove last element\n",
    "print heights\n",
    "heights.sort() # sort element\n",
    "print heights"
   ]
  },
  {
   "cell_type": "markdown",
   "metadata": {},
   "source": [
    "## get element by id"
   ]
  },
  {
   "cell_type": "code",
   "execution_count": 43,
   "metadata": {
    "collapsed": false
   },
   "outputs": [
    {
     "name": "stdout",
     "output_type": "stream",
     "text": [
      "[<h1 id=\"title\">Hello World</h1>]\n",
      "<h1 id=\"title\">Hello World</h1>\n",
      "Hello World\n"
     ]
    }
   ],
   "source": [
    "#print soup\n",
    "print soup.select('#title') # id => #\n",
    "print soup.select('#title')[0]\n",
    "print soup.select('#title')[0].text"
   ]
  },
  {
   "cell_type": "markdown",
   "metadata": {},
   "source": [
    "## get element by class"
   ]
  },
  {
   "cell_type": "code",
   "execution_count": 48,
   "metadata": {
    "collapsed": false
   },
   "outputs": [
    {
     "name": "stdout",
     "output_type": "stream",
     "text": [
      "[<a class=\"link\" href=\"#\">This is link1</a>, <a class=\"link\" href=\"# link2\">This is link2</a>]\n",
      "<a class=\"link\" href=\"#\">This is link1</a>\n",
      "<a class=\"link\" href=\"# link2\">This is link2</a>\n"
     ]
    }
   ],
   "source": [
    "#print soup\n",
    "print soup.select('.link') # class => .\n",
    "print soup.select('.link')[0] # get first item\n",
    "print soup.select('.link')[1] # get second item"
   ]
  },
  {
   "cell_type": "code",
   "execution_count": 51,
   "metadata": {
    "collapsed": false
   },
   "outputs": [
    {
     "name": "stdout",
     "output_type": "stream",
     "text": [
      "<a class=\"link\" href=\"#\">This is link1</a>\n",
      "This is link1\n",
      "<a class=\"link\" href=\"# link2\">This is link2</a>\n",
      "This is link2\n"
     ]
    }
   ],
   "source": [
    "for link in soup.select('.link'):\n",
    "    print link\n",
    "    print link.text"
   ]
  },
  {
   "cell_type": "markdown",
   "metadata": {},
   "source": [
    "## get property of a tag"
   ]
  },
  {
   "cell_type": "code",
   "execution_count": 56,
   "metadata": {
    "collapsed": false
   },
   "outputs": [
    {
     "name": "stdout",
     "output_type": "stream",
     "text": [
      "<a class=\"link\" href=\"#\">This is link1</a>\n",
      "#\n"
     ]
    }
   ],
   "source": [
    "link =  soup.select('.link')[0]\n",
    "print link\n",
    "print link['href']"
   ]
  },
  {
   "cell_type": "code",
   "execution_count": 62,
   "metadata": {
    "collapsed": false
   },
   "outputs": [
    {
     "name": "stdout",
     "output_type": "stream",
     "text": [
      "[<a href=\"#\" qoo=\"123\" qqq=\"234\">this is a link</a>]\n",
      "<a href=\"#\" qoo=\"123\" qqq=\"234\">this is a link</a>\n",
      "123\n",
      "123\n",
      "#\n"
     ]
    }
   ],
   "source": [
    "sample = '<a href=\"#\" qoo=123 qqq=234>this is a link</a>'\n",
    "soup = BeautifulSoup(sample, 'html.parser')\n",
    "print soup.select('a')\n",
    "print soup.select('a')[0]\n",
    "print soup.select('a')[0]['qoo']\n",
    "print soup.select('a')[0]['qoo']\n",
    "print soup.select('a')[0]['href']"
   ]
  },
  {
   "cell_type": "markdown",
   "metadata": {},
   "source": [
    "## get 2330 price"
   ]
  },
  {
   "cell_type": "code",
   "execution_count": 68,
   "metadata": {
    "collapsed": false
   },
   "outputs": [
    {
     "name": "stdout",
     "output_type": "stream",
     "text": [
      "[<b>148.0</b>]\n",
      "<b>148.0</b>\n",
      "148.0\n"
     ]
    }
   ],
   "source": [
    "import requests\n",
    "from bs4 import BeautifulSoup\n",
    "res= requests.get('https://tw.stock.yahoo.com/q/q?s=2330')\n",
    "#print res.text\n",
    "\n",
    "soup = BeautifulSoup(res.text)\n",
    "print soup.select('b')\n",
    "print soup.select('b')[0]\n",
    "print soup.select('b')[0].text\n",
    "#print soup.text"
   ]
  },
  {
   "cell_type": "markdown",
   "metadata": {},
   "source": [
    "## get 2330 news"
   ]
  },
  {
   "cell_type": "code",
   "execution_count": 74,
   "metadata": {
    "collapsed": false
   },
   "outputs": [
    {
     "name": "stdout",
     "output_type": "stream",
     "text": [
      "https://tw.stock.yahoo.com/news_content/url/d/a/20160507/%E7%B6%A0%E8%83%BD%E6%98%AF%E9%96%80%E5%A5%BD%E7%94%9F%E6%84%8F-%E4%B8%AD%E7%A7%91%E5%9C%92%E5%8D%80%E7%94%9F%E6%A9%9F%E8%93%AC%E5%8B%83-055324594.html 綠能是門好生意 中科園區生機蓬勃\n",
      "https://tw.stock.yahoo.com/news_content/url/d/a/20160507/%E5%8F%B0%E5%8C%97%E8%82%A1%E5%B8%82-%E6%90%B6%E6%8A%B1%E8%98%8B%E6%9E%9C%E9%8F%88-%E4%BB%8A%E5%B9%B4-%E5%A0%B4%E7%A9%BA-025624477.html 《台北股市》搶抱蘋果鏈，今年一場空\n",
      "https://tw.stock.yahoo.com/news_content/url/d/a/20160506/%E5%85%AC%E5%91%8A-%E5%8F%B0%E7%A9%8D%E9%9B%BB%E4%BB%A3%E5%AD%90%E5%85%AC%E5%8F%B8-tsmc-global-ltd-095950473.html 【公告】台積電代子公司 TSMC Global Ltd. 取得BBT之普通公司債\n",
      "https://tw.stock.yahoo.com/news_content/url/d/a/20160506/%E8%AD%89%E4%BA%A4%E6%89%80-%E4%BB%8A%E6%97%A5%E5%96%AE-%E8%AD%89%E5%88%B8%E9%89%85%E9%A1%8D%E6%88%90%E4%BA%A4%E8%82%A1%E7%A5%A8-%E9%B4%BB%E6%B5%B7-%E5%8F%B0%E7%A9%8D%E9%9B%BB-091645655.html 《證交所》今日單一證券鉅額成交股票：鴻海、台積電\n",
      "https://beap.gemini.yahoo.com/mbclk?bv=1.0.0&es=uUS8cI8GIS8FAvQzmnCzcXoRL3VQimZHCK61CCRR2KAwUYx.0HOPnghHB04eOgXrTtWdelNvN1qmU1WtaEm6EwPYQhY1o9bTh2hAED8K56IK62LDLfDl7CufjsK1pOZl.l6gAeQlOHMJvRVYSmaO1.ugmK.bcSofI9SOZUGfcclS_KRSKH1z_4fMVS5TsIDkbzIT68rOCdxS6BjpL3k_3C7Na60shh9kVUd7XnyByyRFl0TdTIQkFvxfVNHzlzNWfr4XNbpKnjiu7H3JngE_K6F4DsWRdTkZIAYlb41PFvInef.rPKj.LaU2wjEfLrSQ3JQBRkbRAHIRZQ8Ml5iSmEvokXOvbLxPvSrinOquN_KEBlIPd8sDCDFHxedU7nk3Kljld4QfepuwQ51E.X292wCD_r31XCQMQryN4sN5QdkjjKbS7rzSdUkmYCKDMZesRC6C74V4.f3q1p9Hn9fd4SS3J8xcVfCaiyZ9flNV%26lp= 【台灣優良精品】無毒建材搶鋒頭！歐美住家指定使用\n",
      "https://tw.emarketing.yahoo.com/ysmacq/project.html \n",
      "\n",
      "\n"
     ]
    }
   ],
   "source": [
    "import requests\n",
    "from bs4 import BeautifulSoup\n",
    "res= requests.get('https://tw.stock.yahoo.com/q/q?s=2330')\n",
    "\n",
    "soup = BeautifulSoup(res.text)\n",
    "for alink in soup.select('div.bd.quote a'): # get all 'a' tag under 'div.bd.quote'\n",
    "    print alink['href'], alink.text"
   ]
  },
  {
   "cell_type": "code",
   "execution_count": 76,
   "metadata": {
    "collapsed": false
   },
   "outputs": [
    {
     "name": "stdout",
     "output_type": "stream",
     "text": [
      "https://tw.stock.yahoo.com/news_content/url/d/a/20160507/%E7%B6%A0%E8%83%BD%E6%98%AF%E9%96%80%E5%A5%BD%E7%94%9F%E6%84%8F-%E4%B8%AD%E7%A7%91%E5%9C%92%E5%8D%80%E7%94%9F%E6%A9%9F%E8%93%AC%E5%8B%83-055324594.html 綠能是門好生意 中科園區生機蓬勃\n",
      "https://tw.stock.yahoo.com/news_content/url/d/a/20160507/%E5%8F%B0%E5%8C%97%E8%82%A1%E5%B8%82-%E6%90%B6%E6%8A%B1%E8%98%8B%E6%9E%9C%E9%8F%88-%E4%BB%8A%E5%B9%B4-%E5%A0%B4%E7%A9%BA-025624477.html 《台北股市》搶抱蘋果鏈，今年一場空\n",
      "https://tw.stock.yahoo.com/news_content/url/d/a/20160506/%E5%85%AC%E5%91%8A-%E5%8F%B0%E7%A9%8D%E9%9B%BB%E4%BB%A3%E5%AD%90%E5%85%AC%E5%8F%B8-tsmc-global-ltd-095950473.html 【公告】台積電代子公司 TSMC Global Ltd. 取得BBT之普通公司債\n",
      "https://tw.stock.yahoo.com/news_content/url/d/a/20160506/%E8%AD%89%E4%BA%A4%E6%89%80-%E4%BB%8A%E6%97%A5%E5%96%AE-%E8%AD%89%E5%88%B8%E9%89%85%E9%A1%8D%E6%88%90%E4%BA%A4%E8%82%A1%E7%A5%A8-%E9%B4%BB%E6%B5%B7-%E5%8F%B0%E7%A9%8D%E9%9B%BB-091645655.html 《證交所》今日單一證券鉅額成交股票：鴻海、台積電\n",
      "https://beap.gemini.yahoo.com/mbclk?bv=1.0.0&es=uUS8cI8GIS8FAvQzmnCzcXoRL3VQimZHCK61CCRR2KAwUYx.0HOPnghHB04eOgXrTtWdelNvN1qmU1WtaEm6EwPYQhY1o9bTh2hAED8K56IK62LDLfDl7CufjsK1pOZl.l6gAeQlOHMJvRVYSmaO1.ugmK.bcSofI9SOZUGfcclS_KRSKH1z_4fMVS5TsIDkbzIT68rOCdxS6BjpL3k_3C7Na60shh9kVUd7XnyByyRFl0TdTIQkFvxfVNHzlzNWfr4XNbpKnjiu7H3JngE_K6F4DsWRdTkZIAYlb41PFvInef.rPKj.LaU2wjEfLrSQ3JQBRkbRAHIRZQ8Ml5iSmEvokXOvbLxPvSrinOquN_KEBlIPd8sDCDFHxedU7nk3Kljld4QfepuwQ51E.X292wCD_r31XCQMQryN4sN5QdkjjKbS7rzSdUkmYCKDMZesRC6C74V4.f3q1p9Hn9fd4SS3J8xcVfCaiyZ9flNV%26lp= 【台灣優良精品】無毒建材搶鋒頭！歐美住家指定使用\n",
      "https://tw.emarketing.yahoo.com/ysmacq/project.html \n",
      "\n",
      "\n"
     ]
    }
   ],
   "source": [
    "for alink in soup.select('.quote a'): # get all 'a' tag under 'div.bd.quote'\n",
    "    print alink['href'], alink.text\n"
   ]
  },
  {
   "cell_type": "markdown",
   "metadata": {},
   "source": [
    "## install info lite\n",
    "- https://chrome.google.com/webstore/detail/infolite/ipjbadabbpedegielkhgpiekdlmfpgal/related"
   ]
  },
  {
   "cell_type": "code",
   "execution_count": 83,
   "metadata": {
    "collapsed": false
   },
   "outputs": [
    {
     "name": "stdout",
     "output_type": "stream",
     "text": [
      "[1, 2]\n",
      "[2, 3, 4]\n"
     ]
    }
   ],
   "source": [
    "a = [1,2,3,4,5]\n",
    "print a[0:2]\n",
    "print a[1:4]"
   ]
  },
  {
   "cell_type": "markdown",
   "metadata": {},
   "source": [
    "## not recommend"
   ]
  },
  {
   "cell_type": "code",
   "execution_count": 89,
   "metadata": {
    "collapsed": false
   },
   "outputs": [
    {
     "name": "stdout",
     "output_type": "stream",
     "text": [
      "股票代號 2330台積電加到投資組合\n",
      "時間 14:30\n",
      "成交 148.0\n",
      "買進 147.5\n",
      "賣出 148.0\n",
      "漲跌 △0.5\n",
      "                \n",
      "張數 36,528\n",
      "昨收 147.5\n",
      "開盤 148.5\n",
      "最高 148.5\n",
      "最低 147.0\n",
      "個股資料 \n",
      "成交明細技術　新聞基本　籌碼個股健診\n"
     ]
    }
   ],
   "source": [
    "import requests\n",
    "from bs4 import BeautifulSoup\n",
    "res= requests.get('https://tw.stock.yahoo.com/q/q?s=2330')\n",
    "\n",
    "soup = BeautifulSoup(res.text)\n",
    "tb = soup.select('table + table table')\n",
    "tr = tb[0].select('tr')\n",
    "\n",
    "th = tr[0].select('th')\n",
    "td = tr[1].select('td')\n",
    "\n",
    "for h, d in zip(th, td):\n",
    "    print h.text,d.text"
   ]
  },
  {
   "cell_type": "code",
   "execution_count": 102,
   "metadata": {
    "collapsed": false
   },
   "outputs": [
    {
     "name": "stdout",
     "output_type": "stream",
     "text": [
      "a 1\n",
      "b 2\n",
      "c 3\n",
      "[('a', 1), ('b', 2), ('c', 3)]\n",
      "('a', 1)\n",
      "('b', 2)\n",
      "('c', 3)\n",
      "a 1\n",
      "b 2\n",
      "c 3\n",
      "a 1\n",
      "b 2\n",
      "c 3\n"
     ]
    }
   ],
   "source": [
    "a = ['a', 'b', 'c']\n",
    "b = [1,2,3]\n",
    "#print len(a)\n",
    "for i in range(0, len(a)):\n",
    "    print a[i], b[i]\n",
    "     \n",
    "print zip(a, b)\n",
    "\n",
    "for t in zip(a,b):\n",
    "    print t\n",
    "    \n",
    "for t in zip(a,b):\n",
    "    print t[0], t[1]\n",
    "    \n",
    "for t1,t2 in zip(a,b):\n",
    "    print t1, t2"
   ]
  },
  {
   "cell_type": "markdown",
   "metadata": {},
   "source": [
    "## recommend"
   ]
  },
  {
   "cell_type": "code",
   "execution_count": 92,
   "metadata": {
    "collapsed": false
   },
   "outputs": [
    {
     "data": {
      "text/html": [
       "<div>\n",
       "<table border=\"1\" class=\"dataframe\">\n",
       "  <thead>\n",
       "    <tr style=\"text-align: right;\">\n",
       "      <th></th>\n",
       "      <th>0</th>\n",
       "      <th>1</th>\n",
       "      <th>2</th>\n",
       "      <th>3</th>\n",
       "      <th>4</th>\n",
       "      <th>5</th>\n",
       "      <th>6</th>\n",
       "      <th>7</th>\n",
       "      <th>8</th>\n",
       "      <th>9</th>\n",
       "      <th>10</th>\n",
       "      <th>11</th>\n",
       "    </tr>\n",
       "  </thead>\n",
       "  <tbody>\n",
       "    <tr>\n",
       "      <th>0</th>\n",
       "      <td>股票  代號</td>\n",
       "      <td>時間</td>\n",
       "      <td>成交</td>\n",
       "      <td>買進</td>\n",
       "      <td>賣出</td>\n",
       "      <td>漲跌</td>\n",
       "      <td>張數</td>\n",
       "      <td>昨收</td>\n",
       "      <td>開盤</td>\n",
       "      <td>最高</td>\n",
       "      <td>最低</td>\n",
       "      <td>個股資料</td>\n",
       "    </tr>\n",
       "    <tr>\n",
       "      <th>1</th>\n",
       "      <td>2330台積電  加到投資組合</td>\n",
       "      <td>14:30</td>\n",
       "      <td>148.0</td>\n",
       "      <td>147.5</td>\n",
       "      <td>148.0</td>\n",
       "      <td>△0.5</td>\n",
       "      <td>36528</td>\n",
       "      <td>147.5</td>\n",
       "      <td>148.5</td>\n",
       "      <td>148.5</td>\n",
       "      <td>147.0</td>\n",
       "      <td>成交明細  技術  新聞  基本  籌碼  個股健診</td>\n",
       "    </tr>\n",
       "    <tr>\n",
       "      <th>2</th>\n",
       "      <td>凱基證券下單</td>\n",
       "      <td>買  賣  張  零股交易</td>\n",
       "      <td>NaN</td>\n",
       "      <td>NaN</td>\n",
       "      <td>NaN</td>\n",
       "      <td>NaN</td>\n",
       "      <td>NaN</td>\n",
       "      <td>NaN</td>\n",
       "      <td>NaN</td>\n",
       "      <td>NaN</td>\n",
       "      <td>NaN</td>\n",
       "      <td>NaN</td>\n",
       "    </tr>\n",
       "  </tbody>\n",
       "</table>\n",
       "</div>"
      ],
      "text/plain": [
       "                0              1      2      3      4     5      6      7   \\\n",
       "0           股票  代號             時間     成交     買進     賣出    漲跌     張數     昨收   \n",
       "1  2330台積電  加到投資組合          14:30  148.0  147.5  148.0  △0.5  36528  147.5   \n",
       "2           凱基證券下單  買  賣  張  零股交易    NaN    NaN    NaN   NaN    NaN    NaN   \n",
       "\n",
       "      8      9      10                          11  \n",
       "0     開盤     最高     最低                        個股資料  \n",
       "1  148.5  148.5  147.0  成交明細  技術  新聞  基本  籌碼  個股健診  \n",
       "2    NaN    NaN    NaN                         NaN  "
      ]
     },
     "execution_count": 92,
     "metadata": {},
     "output_type": "execute_result"
    }
   ],
   "source": [
    "import requests\n",
    "import pandas as pd\n",
    "from bs4 import BeautifulSoup\n",
    "res= requests.get('https://tw.stock.yahoo.com/q/q?s=2330')\n",
    "\n",
    "soup = BeautifulSoup(res.text)\n",
    "tb = soup.select('table + table table')\n",
    "df = pd.read_html(tb[0].prettify('utf-8'), encoding= 'utf-8')\n",
    "df[0]"
   ]
  },
  {
   "cell_type": "markdown",
   "metadata": {},
   "source": [
    "## w3c school \n",
    "- http://www.w3schools.com/cssref/css_selectors.asp"
   ]
  },
  {
   "cell_type": "markdown",
   "metadata": {},
   "source": [
    "## 投資信託暨顧問商業同業公會"
   ]
  },
  {
   "cell_type": "code",
   "execution_count": 2,
   "metadata": {
    "collapsed": false
   },
   "outputs": [],
   "source": [
    "import requests\n",
    "from bs4 import BeautifulSoup\n",
    "import pandas as pd\n",
    "rs = requests.session()\n",
    "res = rs.get('http://www.sitca.org.tw/ROC/Industry/IN2212.aspx?pid=IN2222_02')\n",
    "soup = BeautifulSoup(res.text)\n",
    "payload = {\n",
    "'ctl00$ContentPlaceHolder1$ddlQ_Y':'2016',\n",
    "'ctl00$ContentPlaceHolder1$ddlQ_M':'3',\n",
    "'ctl00$ContentPlaceHolder1$ddlQ_Fund':'00965469',\n",
    "'ctl00$ContentPlaceHolder1$BtnQuery':'查詢'\n",
    "}\n",
    "for ele in soup.select('input[type==hidden]'):\n",
    "    payload[ele['name']] = ele['value']\n",
    "res2 = rs.post('http://www.sitca.org.tw/ROC/Industry/IN2212.aspx?pid=IN2222_02', data= payload)\n",
    "soup = BeautifulSoup(res2.text)\n",
    "dfs = pd.read_html(soup.select('table')[0].prettify('utf-8'), encoding = 'utf-8')"
   ]
  },
  {
   "cell_type": "code",
   "execution_count": 9,
   "metadata": {
    "collapsed": false
   },
   "outputs": [],
   "source": [
    "stockdf = dfs[0]"
   ]
  },
  {
   "cell_type": "code",
   "execution_count": 10,
   "metadata": {
    "collapsed": true
   },
   "outputs": [],
   "source": [
    "stockdf.columns  = stockdf.iloc[5]"
   ]
  },
  {
   "cell_type": "code",
   "execution_count": 7,
   "metadata": {
    "collapsed": false
   },
   "outputs": [],
   "source": [
    "stockdf = stockdf.reindex(stockdf.drop([1,2,3,4,5]))"
   ]
  },
  {
   "cell_type": "code",
   "execution_count": 17,
   "metadata": {
    "collapsed": false
   },
   "outputs": [],
   "source": [
    "s1 = stockdf.drop([0,1,2,3,4,5,6])"
   ]
  },
  {
   "cell_type": "code",
   "execution_count": 21,
   "metadata": {
    "collapsed": false
   },
   "outputs": [
    {
     "data": {
      "text/html": [
       "<div>\n",
       "<table border=\"1\" class=\"dataframe\">\n",
       "  <thead>\n",
       "    <tr style=\"text-align: right;\">\n",
       "      <th>5</th>\n",
       "      <th>基金名稱</th>\n",
       "      <th>委託買賣名次</th>\n",
       "      <th>券商</th>\n",
       "      <th>手續費金額</th>\n",
       "      <th>佔手續費總金額%</th>\n",
       "      <th>股票交易</th>\n",
       "    </tr>\n",
       "  </thead>\n",
       "  <tbody>\n",
       "    <tr>\n",
       "      <th>7</th>\n",
       "      <td>兆豐國際第一基金</td>\n",
       "      <td>1</td>\n",
       "      <td>統一綜合證券</td>\n",
       "      <td>75715</td>\n",
       "      <td>42.87%</td>\n",
       "      <td>75911202</td>\n",
       "    </tr>\n",
       "    <tr>\n",
       "      <th>8</th>\n",
       "      <td>2</td>\n",
       "      <td>兆豐證券 (本公司之董事、監事、持股大於5%股東兆豐金融控股股份有限公司擔任該公司之董事、監...</td>\n",
       "      <td>58609</td>\n",
       "      <td>33.18%</td>\n",
       "      <td>58590594</td>\n",
       "      <td>58609</td>\n",
       "    </tr>\n",
       "    <tr>\n",
       "      <th>9</th>\n",
       "      <td>3</td>\n",
       "      <td>國票綜合證券</td>\n",
       "      <td>35706</td>\n",
       "      <td>20.22%</td>\n",
       "      <td>35679639</td>\n",
       "      <td>35706</td>\n",
       "    </tr>\n",
       "    <tr>\n",
       "      <th>10</th>\n",
       "      <td>4</td>\n",
       "      <td>永豐金證券</td>\n",
       "      <td>5489</td>\n",
       "      <td>3.11%</td>\n",
       "      <td>5498489</td>\n",
       "      <td>5489</td>\n",
       "    </tr>\n",
       "    <tr>\n",
       "      <th>11</th>\n",
       "      <td>5</td>\n",
       "      <td>日盛證券</td>\n",
       "      <td>1110</td>\n",
       "      <td>0.63%</td>\n",
       "      <td>1117434</td>\n",
       "      <td>1110</td>\n",
       "    </tr>\n",
       "  </tbody>\n",
       "</table>\n",
       "</div>"
      ],
      "text/plain": [
       "5       基金名稱                                             委託買賣名次      券商  \\\n",
       "7   兆豐國際第一基金                                                  1  統一綜合證券   \n",
       "8          2  兆豐證券 (本公司之董事、監事、持股大於5%股東兆豐金融控股股份有限公司擔任該公司之董事、監...   58609   \n",
       "9          3                                             國票綜合證券   35706   \n",
       "10         4                                              永豐金證券    5489   \n",
       "11         5                                               日盛證券    1110   \n",
       "\n",
       "5    手續費金額  佔手續費總金額%      股票交易  \n",
       "7    75715    42.87%  75911202  \n",
       "8   33.18%  58590594     58609  \n",
       "9   20.22%  35679639     35706  \n",
       "10   3.11%   5498489      5489  \n",
       "11   0.63%   1117434      1110  "
      ]
     },
     "execution_count": 21,
     "metadata": {},
     "output_type": "execute_result"
    }
   ],
   "source": [
    "s1[[u'基金名稱',u'委託買賣名次',u'券商',u'手續費金額', u'佔手續費總金額%',u'股票交易']]"
   ]
  },
  {
   "cell_type": "markdown",
   "metadata": {
    "collapsed": true
   },
   "source": [
    "## cnyes news"
   ]
  },
  {
   "cell_type": "code",
   "execution_count": 4,
   "metadata": {
    "collapsed": false
   },
   "outputs": [],
   "source": [
    "import requests\n",
    "res = requests.get('http://news.cnyes.com/wd_stock/list.shtml?ga=nav')\n",
    "#print res.encoding\n",
    "res.encoding='utf-8'"
   ]
  },
  {
   "cell_type": "code",
   "execution_count": 7,
   "metadata": {
    "collapsed": false
   },
   "outputs": [
    {
     "name": "stdout",
     "output_type": "stream",
     "text": [
      "http://news.cnyes.com/Content/20160508/20160508082005000739632.shtml?c=headline 私有化招證監會約談？奇虎360：傳言與事實不符\n",
      "http://news.cnyes.com/Content/20160507/20160507183802000714456.shtml?c=headline 林鄭月娥被中斷發言退保諮詢會提早結束\n",
      "http://news.cnyes.com/Content/20160507/20160507174149000603253.shtml?c=headline SAVANNAH首日參觀人次料破萬\n",
      "http://news.cnyes.com/Content/20160507/20160507174149000030872.shtml?c=headline 慧聰網售內地附屬予上海鋼聯 下周一復牌\n",
      "http://news.cnyes.com/Content/20160507/20160507173800000513789.shtml?c=headline 團體退休保障諮詢會外請願批評政府漠視民意\n",
      "http://news.cnyes.com/Content/20160507/20160507173144000149859.shtml?c=headline 恆大減持盛京銀行H股 華置69億接盤\n",
      "http://news.cnyes.com/Content/20160507/20160507172153000698453.shtml?c=headline 嘉能可擬再洽售農業部門9.9%股權\n",
      "http://news.cnyes.com/Content/20160507/20160507171358000467271.shtml?c=headline MEGAEXPO終止收購Ultraman知識產權\n",
      "http://news.cnyes.com/Content/20160507/20160507171150000540807.shtml?c=headline 雨潤附屬償還10億人民幣中期票據存不確定\n",
      "http://news.cnyes.com/Content/20160507/20160507171150000200858.shtml?c=headline 北京汽車4月總銷售量按年升13%\n",
      "http://news.cnyes.com/Content/20160507/20160507171150000134634.shtml?c=headline 民生國際發盈喜\n",
      "http://news.cnyes.com/Content/20160507/20160507171149000915553.shtml?c=headline 建福集團發盈警\n",
      "http://news.cnyes.com/Content/20160507/20160507170153000549253.shtml?c=headline 香港食品投資發盈警\n",
      "http://news.cnyes.com/Content/20160507/20160507170153000903076.shtml?c=headline 四洲集團發盈警\n",
      "http://news.cnyes.com/Content/20160507/20160507170152000122792.shtml?c=headline 圓美光電申膚轉主板上市\n",
      "http://news.cnyes.com/Content/20160507/20160507170152000507769.shtml?c=headline 融信資源大折讓2供1籌3563萬元\n",
      "http://news.cnyes.com/Content/20160507/20160507170152000268095.shtml?c=headline 太平洋實業控股股東獲第三方洽購股份\n",
      "http://news.cnyes.com/Content/20160507/20160507165103000533419.shtml?c=headline 南大蘇富特3個月虧損擴大了\n",
      "http://news.cnyes.com/Content/20160507/20160507164142000382669.shtml?c=headline 中國糖果首季轉蝕81萬人民幣\n",
      "http://news.cnyes.com/Content/20160507/20160507164142000256495.shtml?c=headline 緬甸邊境炸藥倉庫爆炸波及雲南多人傷\n",
      "http://news.cnyes.com/Content/20160507/20160507163758000814534.shtml?c=headline 宏峰太平洋首季少賺18% 靠網絡銷售突圍\n",
      "http://news.cnyes.com/Content/20160507/20160507163145000772711.shtml?c=headline 創維數碼今年電視機銷售目標1700萬部\n",
      "http://news.cnyes.com/Content/20160507/20160507162604000781393.shtml?c=headline 宏創高科3個月虧損縮改善靠放債業務\n",
      "http://news.cnyes.com/Content/20160507/20160507161401000877478.shtml?c=headline 上海醫藥附屬與日最大漢方藥生產商組合資\n",
      "http://news.cnyes.com/Content/20160507/20160507161149000504781.shtml?c=headline 新宇國際3個月多賺4.9%\n",
      "http://news.cnyes.com/Content/20160507/20160507154956000047531.shtml?c=headline 上海醫藥董事長樓定波請辭\n",
      "http://news.cnyes.com/Content/20160507/20160507154956000928606.shtml?c=headline 香港珠寶首季仍虧 經濟令集團業務復甦遲緩\n",
      "http://news.cnyes.com/Content/20160507/20160507154956000510899.shtml?c=headline 易通訊季度少賺38%\n",
      "http://news.cnyes.com/Content/20160507/20160507154143000478682.shtml?c=headline 銀合配股籌1560萬 擬強化委託貸款\n",
      "http://news.cnyes.com/Content/20160507/20160507153140000870415.shtml?c=headline 景瑞控股首4個月合約銷售逾40億人民幣\n",
      "http://news.cnyes.com/Content/20160507/20160507153140000165699.shtml?c=headline 中國城建集團考慮分拆業務上創業板\n",
      "http://news.cnyes.com/Content/20160507/20160507152141000543538.shtml?c=headline 海天天?展開無人機產品等應用\n",
      "http://news.cnyes.com/Content/20160507/20160507152559000485887.shtml?c=headline 差估署被拖欠逾億元差餉陳家強稱須釐定工作次序\n",
      "http://news.cnyes.com/Content/20160507/20160507151351000072181.shtml?c=headline 首都金融發盈喜\n",
      "http://news.cnyes.com/Content/20160507/20160507151144000517927.shtml?c=headline 匯聯金融服務發盈喜\n",
      "http://news.cnyes.com/Content/20160507/20160507151143000935927.shtml?c=headline 中國新電信發盈喜\n",
      "http://news.cnyes.com/Content/20160507/20160507151143000507426.shtml?c=headline 首華財經網絡首季蝕錢 續尋商機\n",
      "http://news.cnyes.com/Content/20160507/20160507150156000823472.shtml?c=headline 鼎石資本首季賺464萬\n",
      "http://news.cnyes.com/Content/20160507/20160507144950000772473.shtml?c=headline 神州資源向一內地人配股只籌近千萬\n",
      "http://news.cnyes.com/Content/20160507/20160507144950000761260.shtml?c=headline 億和精密獲中銀2億分期貸款\n"
     ]
    }
   ],
   "source": [
    "from bs4 import BeautifulSoup\n",
    "\n",
    "soup = BeautifulSoup(res.text)\n",
    "for link in soup.select('.bd_dbottom li > a'):\n",
    "    print link['href'], link.text"
   ]
  }
 ],
 "metadata": {
  "kernelspec": {
   "display_name": "Python 2",
   "language": "python",
   "name": "python2"
  },
  "language_info": {
   "codemirror_mode": {
    "name": "ipython",
    "version": 2
   },
   "file_extension": ".py",
   "mimetype": "text/x-python",
   "name": "python",
   "nbconvert_exporter": "python",
   "pygments_lexer": "ipython2",
   "version": "2.7.11"
  }
 },
 "nbformat": 4,
 "nbformat_minor": 0
}
